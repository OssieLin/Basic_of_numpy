{
 "cells": [
  {
   "cell_type": "markdown",
   "id": "3b7809b5",
   "metadata": {},
   "source": [
    "# Numpy (Numerical Python)\n",
    "- ndarray, numpy data array, saves data and address continuously, making the computing faster.\n",
    "- versatile N-dimensional array object for storing data\n",
    "- vectorization enables a degree of computational efficiency (parallel computing), using compiled C code instead of Python\n",
    "- makes easier for linear algebra and fourier transform"
   ]
  },
  {
   "cell_type": "code",
   "execution_count": 4,
   "id": "4cf03b19",
   "metadata": {},
   "outputs": [
    {
     "name": "stdout",
     "output_type": "stream",
     "text": [
      "python ver.\t: 3.11.9 (main, Apr 19 2024, 11:43:47) [Clang 14.0.6 ]\n",
      "\n",
      "numpy ver.\t: 1.24.3\n",
      "\t\t: /Users/User/anaconda3/lib/python3.11/site-packages/numpy/__init__.py\n",
      "\n",
      "pandas ver.\t: 1.5.3\n",
      "\t\t: /Users/User/anaconda3/lib/python3.11/site-packages/pandas/__init__.py\n",
      "\n",
      "matplotlib ver.\t: 3.7.1\n",
      "\t\t: /Users/User/anaconda3/lib/python3.11/site-packages/matplotlib/__init__.py\n"
     ]
    }
   ],
   "source": [
    "import sys\n",
    "import numpy as np\n",
    "import pandas as pd\n",
    "import matplotlib\n",
    "import matplotlib.pyplot as plt\n",
    "\n",
    "print(f'python ver.\\t: {sys.version}\\n\\n'\n",
    "      f'numpy ver.\\t: {np.__version__}\\n\\t\\t: {np.__file__}\\n\\n'\n",
    "      f'pandas ver.\\t: {pd.__version__}\\n\\t\\t: {pd.__file__}\\n\\n'\n",
    "      f'matplotlib ver.\\t: {matplotlib.__version__}\\n\\t\\t: {matplotlib.__file__}')\n"
   ]
  },
  {
   "cell_type": "markdown",
   "id": "4ec4a292",
   "metadata": {},
   "source": [
    "## Speed: list vs. ndarray"
   ]
  },
  {
   "cell_type": "code",
   "execution_count": 6,
   "id": "c6163ee8",
   "metadata": {},
   "outputs": [
    {
     "name": "stdout",
     "output_type": "stream",
     "text": [
      "36.2 ms ± 2.68 ms per loop (mean ± std. dev. of 7 runs, 10 loops each)\n",
      "994 µs ± 170 µs per loop (mean ± std. dev. of 7 runs, 10 loops each)\n"
     ]
    }
   ],
   "source": [
    "import numpy as np\n",
    "my_list = list(range(1000000))\n",
    "my_arr = np.arange(1000000)\n",
    "\n",
    "# for i in my_list[:10]:\n",
    "#     print(i)\n",
    "\n",
    "%timeit -n 10 my_list2 = [x * 2 for x in my_list]\n",
    "%timeit -n 10 my_arr2 = my_arr * 2"
   ]
  },
  {
   "cell_type": "markdown",
   "id": "b38baa00",
   "metadata": {},
   "source": [
    "## Multidimensional Array Object"
   ]
  },
  {
   "cell_type": "code",
   "execution_count": 8,
   "id": "5fc7d0c9",
   "metadata": {},
   "outputs": [
    {
     "name": "stdout",
     "output_type": "stream",
     "text": [
      "data = \n",
      "[[-0.35700492  1.02647674  1.22130145]\n",
      " [-0.43063031 -0.09213323 -0.07932218]]\n",
      "\n",
      "type(data) : <class 'numpy.ndarray'>\n",
      "\n",
      "data * 10 =\n",
      "[[-3.57004921 10.26476739 12.21301454]\n",
      " [-4.30630311 -0.92133235 -0.79322175]]\n",
      "\n",
      "data + data =\n",
      " [[-0.71400984  2.05295348  2.44260291]\n",
      " [-0.86126062 -0.18426647 -0.15864435]]\n"
     ]
    }
   ],
   "source": [
    "# Generate some random data\n",
    "# data = np.random.randn(6)\n",
    "data = np.random.randn(2,3)\n",
    "print(f'data = \\n{data}\\n\\n'\n",
    "      f'type(data) : {type(data)}\\n\\n'\n",
    "      f'data * 10 =\\n{data*10}\\n\\n'\n",
    "      f'data + data =\\n {data+data}')"
   ]
  },
  {
   "cell_type": "code",
   "execution_count": 22,
   "id": "8852f409",
   "metadata": {},
   "outputs": [
    {
     "name": "stdout",
     "output_type": "stream",
     "text": [
      "a: [1 2 3 4]\n",
      "a.shape: (4,)\n",
      "a.reshape(4,1):\n",
      " [[1]\n",
      " [2]\n",
      " [3]\n",
      " [4]]\n",
      "a.reshape(4,1).shape: (4, 1)\n"
     ]
    }
   ],
   "source": [
    "a = np.array([1,2,3,4])\n",
    "print(f'a: {a}')\n",
    "print(f'a.shape: {a.shape}') # (4,) != (4,1)'\n",
    "print(f'a.reshape(4,1):\\n {a.reshape(4,1)}')\n",
    "print(f'a.reshape(4,1).shape: {a.reshape(4,1).shape}')"
   ]
  },
  {
   "cell_type": "markdown",
   "id": "e19a4e0e",
   "metadata": {},
   "source": [
    "## Numpy Array basic attributes\n",
    "- ndarray.shape: returns a tuple representing the shape of the array (row, column ......)\n",
    "- ndarray.ndim: returns the number of dimensions (axes) of the array\n",
    "- ndarray.size: returns the total number of elements in the array, which is the product of 'shape' tuple\n",
    "- ndarray/itemsize: returns the size in bytes of each element in the array\n",
    "- ndarray.dytpe: returns the data type of the elements in the array"
   ]
  },
  {
   "cell_type": "code",
   "execution_count": 23,
   "id": "1a600aab",
   "metadata": {},
   "outputs": [
    {
     "data": {
      "text/plain": [
       "(array([1., 2., 3., 4., 5.]), dtype('float64'))"
      ]
     },
     "execution_count": 23,
     "metadata": {},
     "output_type": "execute_result"
    }
   ],
   "source": [
    "a = np.array([1,2,3,4,5], dtype=float) # int to float\n",
    "a, a.dtype # default to print if not specified"
   ]
  },
  {
   "cell_type": "markdown",
   "id": "b9e0b423",
   "metadata": {},
   "source": [
    "## create ndarray\n",
    "- np.arange(start,stop,step,dtype)"
   ]
  },
  {
   "cell_type": "code",
   "execution_count": 25,
   "id": "3871c004",
   "metadata": {},
   "outputs": [
    {
     "name": "stdout",
     "output_type": "stream",
     "text": [
      "arr\t\t\t = [ 1  2  3  4  5  6  7  8  9 10]\n",
      "type(arr)\t\t= <class 'numpy.ndarray'>)\n",
      "arr.dtype\t\t= int64\n",
      "arr.itemsize\t\t = 8\n",
      "arr.nbytes\t\t= 80\n",
      "\n",
      "arr1\t\t\t = [ 1.  2.  3.  4.  5.  6.  7.  8.  9. 10.]\n",
      "type(arr1)\t\t= <class 'numpy.ndarray'>)\n",
      "arr1.dtype\t\t= float64\n",
      "arr1.itemsize\t\t = 8\n",
      "arr1.nbytes\t\t= 80\n",
      "\n"
     ]
    }
   ],
   "source": [
    "arr = np.array([1,2,3,4,5,6,7,8,9,10])\n",
    "arr1 = np.arange(1,11, dtype=float)\n",
    "\n",
    "print(f'arr\\t\\t\\t = {arr}\\n'\n",
    "      f'type(arr)\\t\\t= {type(arr)})\\n'\n",
    "      f'arr.dtype\\t\\t= {arr.dtype}\\n'\n",
    "      f'arr.itemsize\\t\\t = {arr.itemsize}\\n'\n",
    "      f'arr.nbytes\\t\\t= {arr.nbytes}\\n')\n",
    "\n",
    "print(f'arr1\\t\\t\\t = {arr1}\\n'\n",
    "      f'type(arr1)\\t\\t= {type(arr1)})\\n'\n",
    "      f'arr1.dtype\\t\\t= {arr1.dtype}\\n'\n",
    "      f'arr1.itemsize\\t\\t = {arr1.itemsize}\\n'\n",
    "      f'arr1.nbytes\\t\\t= {arr1.nbytes}\\n')"
   ]
  },
  {
   "cell_type": "markdown",
   "id": "83a3b9c1",
   "metadata": {},
   "source": [
    "## np.zeros, ones, full, eye"
   ]
  },
  {
   "cell_type": "code",
   "execution_count": 37,
   "id": "d8bc9710",
   "metadata": {},
   "outputs": [
    {
     "name": "stdout",
     "output_type": "stream",
     "text": [
      "zeros: \n",
      "[[0. 0.]\n",
      " [0. 0.]\n",
      " [0. 0.]]\n",
      "ones: \n",
      "[[1. 1.]\n",
      " [1. 1.]\n",
      " [1. 1.]]\n",
      "full: \n",
      "[[7 7]\n",
      " [7 7]\n",
      " [7 7]]\n",
      "eye: \n",
      "[[1. 0. 0.]\n",
      " [0. 1. 0.]\n",
      " [0. 0. 1.]]\n",
      "eye, k=-1: \n",
      "[[0. 0. 0.]\n",
      " [1. 0. 0.]\n",
      " [0. 1. 0.]]\n",
      "diag: \n",
      "[[1 0 0 0 0]\n",
      " [0 2 0 0 0]\n",
      " [0 0 3 0 0]\n",
      " [0 0 0 4 0]\n",
      " [0 0 0 0 5]]\n"
     ]
    }
   ],
   "source": [
    "print(\"zeros: \")\n",
    "print(np.zeros((3,2)))\n",
    "print(\"ones: \")\n",
    "print(np.ones((3,2)))\n",
    "print(\"full: \")\n",
    "print(np.full((3,2),7))\n",
    "# eye k=0, k=-1, k=......\n",
    "print(\"eye: \")\n",
    "print(np.eye(3)) # creates a 2D array with ones onthe diagonal and zeros eleswhere\n",
    "print(\"eye, k=-1: \")\n",
    "print(np.eye(3, k=-1))\n",
    "print(\"diag: \")\n",
    "print(np.diag((1,2,3,4,5)))"
   ]
  },
  {
   "cell_type": "markdown",
   "id": "359452c4",
   "metadata": {},
   "source": [
    "## astype(): change datatype"
   ]
  },
  {
   "cell_type": "code",
   "execution_count": 41,
   "id": "ee529897",
   "metadata": {},
   "outputs": [
    {
     "name": "stdout",
     "output_type": "stream",
     "text": [
      "arr32[1 2 3 4 5]\tint64\n",
      "arr62[1. 2. 3. 4. 5.]\tfloat64\n"
     ]
    }
   ],
   "source": [
    "arr32 = np.array([1,2,3,4,5])\n",
    "print(f'arr32{arr32}\\t{arr32.dtype}')\n",
    "\n",
    "arr64 = arr32.astype(np.float64)\n",
    "print(f'arr62{arr64}\\t{arr64.dtype}')"
   ]
  },
  {
   "cell_type": "markdown",
   "id": "ae40a36b",
   "metadata": {},
   "source": [
    "## leverage from another array"
   ]
  },
  {
   "cell_type": "code",
   "execution_count": 43,
   "id": "5570ccc0",
   "metadata": {},
   "outputs": [
    {
     "data": {
      "text/plain": [
       "(array([0, 1, 2, 3, 4, 5, 6, 7, 8, 9]),\n",
       " dtype('float64'),\n",
       " array([0., 1., 2., 3., 4., 5., 6., 7., 8., 9.]))"
      ]
     },
     "execution_count": 43,
     "metadata": {},
     "output_type": "execute_result"
    }
   ],
   "source": [
    "int_array = np.arange(10)\n",
    "calibers = np.array([.22, .270, .380, .44, .50], dtype=np.float64)\n",
    "int_array, calibers.dtype, int_array.astype(calibers.dtype) # leverage calibers data type"
   ]
  },
  {
   "cell_type": "markdown",
   "id": "8996d9e8",
   "metadata": {},
   "source": [
    "## Arithmetic Operation"
   ]
  },
  {
   "cell_type": "code",
   "execution_count": 44,
   "id": "f32c73ab",
   "metadata": {},
   "outputs": [
    {
     "name": "stdout",
     "output_type": "stream",
     "text": [
      "arr =\n",
      "[[1 2 3]\n",
      " [4 5 6]]\n",
      "\n",
      "arr * arr =\n",
      " [[ 1  4  9]\n",
      " [16 25 36]]\n",
      "\n",
      "arr - arr =\n",
      " [[0 0 0]\n",
      " [0 0 0]]\n",
      "\n",
      "1 / arr:\n",
      "[[1.         0.5        0.33333333]\n",
      " [0.25       0.2        0.16666667]]\n",
      "\n",
      "arr ** 0.5 =\n",
      "[[1.         1.41421356 1.73205081]\n",
      " [2.         2.23606798 2.44948974]]\n"
     ]
    }
   ],
   "source": [
    "arr = np.array([[1, 2, 3], [4, 5, 6]])\n",
    "print(f'arr =\\n{arr}\\n\\n'\n",
    "      f'arr * arr =\\n {arr*arr}\\n\\n'\n",
    "      f'arr - arr =\\n {arr-arr}\\n\\n'\n",
    "      f'1 / arr:\\n{1/arr}\\n\\n'\n",
    "      f'arr ** 0.5 =\\n{arr**0.5}')"
   ]
  },
  {
   "cell_type": "markdown",
   "id": "c7039f10",
   "metadata": {},
   "source": [
    "## Comparsion"
   ]
  },
  {
   "cell_type": "code",
   "execution_count": 4,
   "id": "ef0ea1d1",
   "metadata": {},
   "outputs": [
    {
     "name": "stdout",
     "output_type": "stream",
     "text": [
      "arr =\n",
      "[[1. 2. 3.]\n",
      " [4. 5. 6.]]\n",
      "\n",
      "arr2 = \n",
      "[[ 0.  4.  1.]\n",
      " [ 7.  2. 12.]]\n",
      "\n"
     ]
    },
    {
     "data": {
      "text/plain": [
       "(array([[False, False, False],\n",
       "        [False, False, False]]),\n",
       " array([[False, False, False],\n",
       "        [False, False, False]]),\n",
       " array([[ True, False,  True],\n",
       "        [False,  True, False]]))"
      ]
     },
     "execution_count": 4,
     "metadata": {},
     "output_type": "execute_result"
    }
   ],
   "source": [
    "import numpy as np\n",
    "arr = np.array([[1., 2., 3.], [4., 5., 6.]])\n",
    "arr2 = np.array([[0., 4., 1.], [7., 2., 12.]])\n",
    "print(f'arr =\\n{arr}\\n\\narr2 = \\n{arr2}\\n')\n",
    "arr > arr, arr2 ==arr, arr2 < arr"
   ]
  },
  {
   "cell_type": "code",
   "execution_count": 5,
   "id": "821726ac",
   "metadata": {},
   "outputs": [
    {
     "name": "stdout",
     "output_type": "stream",
     "text": [
      "ar\t\t: [ 7 10  5 12 18 23  5  2  5 19]\n",
      "ar%2==0\t\t: [False  True False  True  True False False  True False False]\n",
      "mask\t\t: [1 0 1 0 0 1 1 0 1 1]\n",
      "ar[mask]\t: [10  7 10  7  7 10 10  7 10 10]\n",
      "ar[ar%2]\t: [10  7 10  7  7 10 10  7 10 10]\n"
     ]
    }
   ],
   "source": [
    "# np.random.seed(20) # np.random.RandomState(42)\n",
    "ar = np.random.randint(0, 25, 10) # 10 random numbers between 0 and 25\n",
    "mask = ar%2\n",
    "\n",
    "print(f'ar\\t\\t: {ar}\\n'\n",
    "      f'ar%2==0\\t\\t: {ar%2==0}\\n'\n",
    "      f'mask\\t\\t: {mask}\\n'\n",
    "      f'ar[mask]\\t: {ar[mask]}\\n' # mask as index: bask and forth in 0,1,0,1\n",
    "      f'ar[ar%2]\\t: {ar[ar%2]}')"
   ]
  },
  {
   "cell_type": "markdown",
   "id": "f5939754",
   "metadata": {},
   "source": [
    "## Logical Operator"
   ]
  },
  {
   "cell_type": "code",
   "execution_count": 4,
   "id": "bf61faa3",
   "metadata": {},
   "outputs": [],
   "source": [
    "import numpy as np\n",
    "l1 = np.array([True, False, True, False])\n",
    "l2 = np.array([False, False, True, False])"
   ]
  },
  {
   "cell_type": "code",
   "execution_count": 11,
   "id": "c0dece63",
   "metadata": {},
   "outputs": [
    {
     "data": {
      "text/plain": [
       "(array([False, False,  True, False]), array([False, False,  True, False]))"
      ]
     },
     "execution_count": 11,
     "metadata": {},
     "output_type": "execute_result"
    }
   ],
   "source": [
    "np.logical_and(l1,l2), l1*l2"
   ]
  },
  {
   "cell_type": "code",
   "execution_count": 7,
   "id": "16fc1b45",
   "metadata": {},
   "outputs": [
    {
     "data": {
      "text/plain": [
       "(array([ True, False,  True, False]), array([ True, False,  True, False]))"
      ]
     },
     "execution_count": 7,
     "metadata": {},
     "output_type": "execute_result"
    }
   ],
   "source": [
    "np.logical_or(l1,l2),l1+l2"
   ]
  },
  {
   "cell_type": "code",
   "execution_count": 8,
   "id": "40dea93a",
   "metadata": {},
   "outputs": [
    {
     "data": {
      "text/plain": [
       "array([ True, False, False, False])"
      ]
     },
     "execution_count": 8,
     "metadata": {},
     "output_type": "execute_result"
    }
   ],
   "source": [
    "np.logical_xor(l1,l2)"
   ]
  },
  {
   "cell_type": "code",
   "execution_count": 9,
   "id": "4cc16ba1",
   "metadata": {},
   "outputs": [
    {
     "data": {
      "text/plain": [
       "array([ True,  True, False,  True])"
      ]
     },
     "execution_count": 9,
     "metadata": {},
     "output_type": "execute_result"
    }
   ],
   "source": [
    "np.logical_not(l2)"
   ]
  },
  {
   "cell_type": "markdown",
   "id": "995dd394",
   "metadata": {},
   "source": [
    "## To eliminate missing values"
   ]
  },
  {
   "cell_type": "code",
   "execution_count": 12,
   "id": "41be0eb4",
   "metadata": {},
   "outputs": [
    {
     "data": {
      "text/plain": [
       "array(['Hungary', 'Nigeria', 'Guatemuala', '', 'Poland', '', 'Japan'],\n",
       "      dtype='<U10')"
      ]
     },
     "execution_count": 12,
     "metadata": {},
     "output_type": "execute_result"
    }
   ],
   "source": [
    "ar = np.array(['Hungary', 'Nigeria', 'Guatemuala', '','Poland','','Japan'])\n",
    "ar"
   ]
  },
  {
   "cell_type": "code",
   "execution_count": 13,
   "id": "21a97370",
   "metadata": {},
   "outputs": [
    {
     "data": {
      "text/plain": [
       "array(['Hungary', 'Nigeria', 'Guatemuala', 'USA', 'Poland', 'USA',\n",
       "       'Japan'], dtype='<U10')"
      ]
     },
     "execution_count": 13,
     "metadata": {},
     "output_type": "execute_result"
    }
   ],
   "source": [
    "ar[ar=='']='USA'\n",
    "ar"
   ]
  },
  {
   "cell_type": "markdown",
   "id": "92a24ace",
   "metadata": {},
   "source": [
    "## Arrays of integers can be used to index an array to produce another array"
   ]
  },
  {
   "cell_type": "code",
   "execution_count": 17,
   "id": "709abf2d",
   "metadata": {},
   "outputs": [
    {
     "name": "stdout",
     "output_type": "stream",
     "text": [
      "[ 0 11 22 33 44 55 66 77 88 99]\n",
      "[11 33 44 22 77]\n"
     ]
    }
   ],
   "source": [
    "ar = 11*np.arange(0,10)\n",
    "print(f'{ar}\\n'\n",
    "      f'{ar[[1, 3, 4, 2, 7]]}') # means fancy index"
   ]
  },
  {
   "cell_type": "code",
   "execution_count": 18,
   "id": "be749945",
   "metadata": {},
   "outputs": [
    {
     "data": {
      "text/plain": [
       "array([ 0, 50, 22, 50, 44, 55, 66, 77, 88, 99])"
      ]
     },
     "execution_count": 18,
     "metadata": {},
     "output_type": "execute_result"
    }
   ],
   "source": [
    "# Assignment is also possibly with array indexing\n",
    "ar[[1,3]] = 50\n",
    "ar"
   ]
  },
  {
   "cell_type": "markdown",
   "id": "d76139ee",
   "metadata": {},
   "source": [
    "## Indexing & Slicing (Start, Stop, Step)"
   ]
  },
  {
   "cell_type": "code",
   "execution_count": 26,
   "id": "2d324f09",
   "metadata": {},
   "outputs": [
    {
     "data": {
      "text/plain": [
       "array([1, 2, 3, 4, 5])"
      ]
     },
     "execution_count": 26,
     "metadata": {},
     "output_type": "execute_result"
    }
   ],
   "source": [
    "import numpy as np\n",
    "a = np.array([1,2,3,4,5]) # a = np.arange(1,6)\n",
    "a"
   ]
  },
  {
   "cell_type": "code",
   "execution_count": 24,
   "id": "e3920652",
   "metadata": {},
   "outputs": [
    {
     "name": "stdout",
     "output_type": "stream",
     "text": [
      "2\n",
      "[3 4]\n",
      "[4 5]\n",
      "[1 3 5]\n",
      "[2 4 5]\n"
     ]
    }
   ],
   "source": [
    "print(a[1])\n",
    "print(a[2:4])\n",
    "print(a[-2:])\n",
    "print(a[::2])\n",
    "print(a[[1,3,4]]) # fancy index, which prints out the specific index"
   ]
  },
  {
   "cell_type": "markdown",
   "id": "b5e23159",
   "metadata": {},
   "source": [
    "## index : [row, column]\n",
    "## fancy index: [[3,4,1], [2,1]\n",
    "## slice: [row: row, column, column, ....]"
   ]
  },
  {
   "cell_type": "code",
   "execution_count": 29,
   "id": "a71ac619",
   "metadata": {},
   "outputs": [
    {
     "name": "stdout",
     "output_type": "stream",
     "text": [
      "[0 1 2 3 4 5 6 7 8 9]\n",
      "5\n",
      "[5 6 7]\n",
      "[5 7]\n",
      "[ 0  1  2  3  4 12 12 12  8  9]\n"
     ]
    }
   ],
   "source": [
    "arr = np.arange(10)\n",
    "print(arr)\n",
    "print(arr[5])\n",
    "print(arr[5:8])\n",
    "print(arr[5:8:2])\n",
    "\n",
    "arr[5:8] = 12\n",
    "print(arr)"
   ]
  },
  {
   "cell_type": "markdown",
   "id": "5c63447a",
   "metadata": {},
   "source": [
    "## Copy & Deep Copy\n",
    "- slice point back to original array"
   ]
  },
  {
   "cell_type": "code",
   "execution_count": 30,
   "id": "1a91c5ae",
   "metadata": {},
   "outputs": [
    {
     "data": {
      "text/plain": [
       "(array([ 0,  1,  2,  3,  4, 12, 12, 12,  8,  9]), array([12, 12, 12]))"
      ]
     },
     "execution_count": 30,
     "metadata": {},
     "output_type": "execute_result"
    }
   ],
   "source": [
    "arr_slice = arr[5:8]\n",
    "arr, arr_slice"
   ]
  },
  {
   "cell_type": "code",
   "execution_count": 31,
   "id": "6f1ebffb",
   "metadata": {},
   "outputs": [
    {
     "data": {
      "text/plain": [
       "(array([    0,     1,     2,     3,     4,    12, 12345,    12,     8,\n",
       "            9]),\n",
       " array([   12, 12345,    12]))"
      ]
     },
     "execution_count": 31,
     "metadata": {},
     "output_type": "execute_result"
    }
   ],
   "source": [
    "# point to original arr_slice. Leverage back to original\n",
    "arr_slice[1] = 12345\n",
    "arr, arr_slice"
   ]
  },
  {
   "cell_type": "code",
   "execution_count": 32,
   "id": "268cc2c6",
   "metadata": {},
   "outputs": [
    {
     "name": "stdout",
     "output_type": "stream",
     "text": [
      "a = [0 1 2 3]\n",
      "b = [0 1 2 3]\n",
      "c = [0 1 2 3]\n",
      "d = [0 1 2 3]\n",
      "\n",
      "a = [ 0 22 33  3]\n",
      "b = [ 0 22 33  3]\n",
      "c = [ 0 22 33  3]\n",
      "d = [ 0 22 33  3]\n",
      "\n"
     ]
    }
   ],
   "source": [
    "a = np.arange(4)\n",
    "b = c = a; d = b\n",
    "\n",
    "print(f'a = {a}\\n'\n",
    "      f'b = {b}\\n'\n",
    "      f'c = {c}\\n'\n",
    "      f'd = {d}\\n')\n",
    "\n",
    "d[1:3] = [22, 33]\n",
    "print(f'a = {a}\\n'\n",
    "      f'b = {b}\\n'\n",
    "      f'c = {c}\\n'\n",
    "      f'd = {d}\\n')"
   ]
  },
  {
   "cell_type": "markdown",
   "id": "edfeba20",
   "metadata": {},
   "source": [
    "## Deep Copy\n",
    "- .copy()"
   ]
  },
  {
   "cell_type": "code",
   "execution_count": 33,
   "id": "57363da2",
   "metadata": {},
   "outputs": [
    {
     "data": {
      "text/plain": [
       "(array([  0, 100,  33,   3]), array([ 0, 22, 33,  3]))"
      ]
     },
     "execution_count": 33,
     "metadata": {},
     "output_type": "execute_result"
    }
   ],
   "source": [
    "b = a.copy()\n",
    "b[1] = 100\n",
    "b, a"
   ]
  },
  {
   "cell_type": "markdown",
   "id": "5da7a37b",
   "metadata": {},
   "source": [
    "## Reshape & Flatten\n",
    "- ndarray.reshape(shape, order)"
   ]
  },
  {
   "cell_type": "code",
   "execution_count": 34,
   "id": "3321c47e",
   "metadata": {},
   "outputs": [
    {
     "name": "stdout",
     "output_type": "stream",
     "text": [
      "a = \n",
      "[ 1  2  3  4  5  6  7  8  9 10 11 12]shape: (12,)\n",
      "\n",
      "a = \n",
      "[[ 1  2  3  4  5  6]\n",
      " [ 7  8  9 10 11 12]]shape: (2, 6)\n",
      "\n",
      "a = \n",
      "[[[ 1  2  3]\n",
      "  [ 4  5  6]]\n",
      "\n",
      " [[ 7  8  9]\n",
      "  [10 11 12]]]shape: (2, 2, 3)\n",
      "\n",
      "a = \n",
      "[[[ 1  2]\n",
      "  [ 3  4]\n",
      "  [ 5  6]]\n",
      "\n",
      " [[ 7  8]\n",
      "  [ 9 10]\n",
      "  [11 12]]]shape: (2, 3, 2)\n",
      "\n",
      "\n"
     ]
    }
   ],
   "source": [
    "import numpy as np\n",
    "a = np.array([1,2,3,4,5,6,7,8,9,10,11,12])\n",
    "b = np.reshape(a, (2,-1))\n",
    "c = np.reshape(a,(2,2,-1))\n",
    "d = np.reshape(a, (2,3,-1))\n",
    "print(f'a = \\n{a}shape: {a.shape}\\n\\n'\n",
    "      f'a = \\n{b}shape: {b.shape}\\n\\n'\n",
    "      f'a = \\n{c}shape: {c.shape}\\n\\n'\n",
    "      f'a = \\n{d}shape: {d.shape}\\n\\n')"
   ]
  },
  {
   "cell_type": "markdown",
   "id": "9e9c20d8",
   "metadata": {},
   "source": [
    "## Flatten: Numpy flatten creates a 1D array from a multi-dimensional array\n",
    "- remain the original array the same, like a = b.copy()"
   ]
  },
  {
   "cell_type": "code",
   "execution_count": 35,
   "id": "172947dd",
   "metadata": {},
   "outputs": [
    {
     "data": {
      "text/plain": [
       "(array([10,  1,  2,  3,  4,  5,  6,  7,  8,  9, 10, 11, 12, 13, 14]),\n",
       " array([[ 0,  1,  2],\n",
       "        [ 3,  4,  5],\n",
       "        [ 6,  7,  8],\n",
       "        [ 9, 10, 11],\n",
       "        [12, 13, 14]]))"
      ]
     },
     "execution_count": 35,
     "metadata": {},
     "output_type": "execute_result"
    }
   ],
   "source": [
    "arr = np.arange(15).reshape((5,3))\n",
    "a = arr.flatten()\n",
    "a[0] = 10\n",
    "a, arr"
   ]
  },
  {
   "cell_type": "markdown",
   "id": "e2939214",
   "metadata": {},
   "source": [
    "## Ravel: Point to the original array"
   ]
  },
  {
   "cell_type": "code",
   "execution_count": 36,
   "id": "b9a38dd3",
   "metadata": {},
   "outputs": [
    {
     "data": {
      "text/plain": [
       "(array([10,  1,  2,  3,  4,  5,  6,  7,  8,  9, 10, 11, 12, 13, 14]),\n",
       " array([[10,  1,  2],\n",
       "        [ 3,  4,  5],\n",
       "        [ 6,  7,  8],\n",
       "        [ 9, 10, 11],\n",
       "        [12, 13, 14]]))"
      ]
     },
     "execution_count": 36,
     "metadata": {},
     "output_type": "execute_result"
    }
   ],
   "source": [
    "arr = np.arange(15).reshape((5,3))\n",
    "a = arr.ravel()\n",
    "a[0] = 10\n",
    "a, arr"
   ]
  },
  {
   "cell_type": "markdown",
   "id": "c71689e2",
   "metadata": {},
   "source": [
    "## Indexing with slices"
   ]
  },
  {
   "cell_type": "code",
   "execution_count": 37,
   "id": "62ad0bd3",
   "metadata": {},
   "outputs": [
    {
     "data": {
      "text/plain": [
       "(array([[1, 2, 3],\n",
       "        [4, 5, 6],\n",
       "        [7, 8, 9]]),\n",
       " array([[1, 2, 3],\n",
       "        [4, 5, 6]]))"
      ]
     },
     "execution_count": 37,
     "metadata": {},
     "output_type": "execute_result"
    }
   ],
   "source": [
    "arr2d = np.array([[1,2,3], [4,5,6,], [7,8,9]])\n",
    "arr2d, arr2d[:2] # row only"
   ]
  },
  {
   "cell_type": "code",
   "execution_count": 38,
   "id": "f0e9d64e",
   "metadata": {},
   "outputs": [
    {
     "data": {
      "text/plain": [
       "array([[2, 3],\n",
       "       [5, 6]])"
      ]
     },
     "execution_count": 38,
     "metadata": {},
     "output_type": "execute_result"
    }
   ],
   "source": [
    "arr2d[:2, 1:] # row and column"
   ]
  },
  {
   "cell_type": "markdown",
   "id": "de7fd481",
   "metadata": {},
   "source": [
    "## Boolean Indexing"
   ]
  },
  {
   "cell_type": "code",
   "execution_count": 41,
   "id": "820607f1",
   "metadata": {},
   "outputs": [
    {
     "data": {
      "text/plain": [
       "(array(['Bob', 'Joe', 'Will', 'Bob', 'Will', 'Joe', 'Joe'], dtype='<U4'),\n",
       " array([[ 0.90018319,  1.14245637,  0.43330602, -0.04470062],\n",
       "        [-0.80153321, -0.57649132, -1.37496885, -2.04898672],\n",
       "        [ 0.71873856,  1.96076091, -1.82102094,  0.59354976],\n",
       "        [-0.57997128, -0.10988428,  0.66701748, -0.42241233],\n",
       "        [-0.25707614,  0.52670165,  1.16292375,  0.45790536],\n",
       "        [-1.15335259, -0.45453891,  0.31761188, -0.12324829],\n",
       "        [-2.30168019, -0.4807103 , -0.60768044,  1.30164605]]))"
      ]
     },
     "execution_count": 41,
     "metadata": {},
     "output_type": "execute_result"
    }
   ],
   "source": [
    "names = np.array(['Bob', 'Joe', 'Will', 'Bob', 'Will', 'Joe', 'Joe'])\n",
    "data = np.random.randn(7, 4)\n",
    "names, data"
   ]
  },
  {
   "cell_type": "code",
   "execution_count": 43,
   "id": "2f801017",
   "metadata": {},
   "outputs": [
    {
     "data": {
      "text/plain": [
       "(array([ True, False, False,  True, False, False, False]),\n",
       " array([[ 0.90018319,  1.14245637,  0.43330602, -0.04470062],\n",
       "        [-0.80153321, -0.57649132, -1.37496885, -2.04898672],\n",
       "        [ 0.71873856,  1.96076091, -1.82102094,  0.59354976],\n",
       "        [-0.57997128, -0.10988428,  0.66701748, -0.42241233],\n",
       "        [-0.25707614,  0.52670165,  1.16292375,  0.45790536],\n",
       "        [-1.15335259, -0.45453891,  0.31761188, -0.12324829],\n",
       "        [-2.30168019, -0.4807103 , -0.60768044,  1.30164605]]))"
      ]
     },
     "execution_count": 43,
     "metadata": {},
     "output_type": "execute_result"
    }
   ],
   "source": [
    "names == 'Bob', data"
   ]
  },
  {
   "cell_type": "code",
   "execution_count": 44,
   "id": "b524b224",
   "metadata": {},
   "outputs": [
    {
     "data": {
      "text/plain": [
       "array([[ 0.90018319,  1.14245637,  0.43330602, -0.04470062],\n",
       "       [-0.57997128, -0.10988428,  0.66701748, -0.42241233]])"
      ]
     },
     "execution_count": 44,
     "metadata": {},
     "output_type": "execute_result"
    }
   ],
   "source": [
    "data[names == 'Bob'] # Print out row 0 and 3"
   ]
  },
  {
   "cell_type": "code",
   "execution_count": 45,
   "id": "fd166ed1",
   "metadata": {},
   "outputs": [
    {
     "data": {
      "text/plain": [
       "(array([[ 0.43330602, -0.04470062],\n",
       "        [ 0.66701748, -0.42241233]]),\n",
       " array([-0.04470062, -0.42241233]))"
      ]
     },
     "execution_count": 45,
     "metadata": {},
     "output_type": "execute_result"
    }
   ],
   "source": [
    "data[names == 'Bob', 2:], data[names == 'Bob', 3]"
   ]
  },
  {
   "cell_type": "code",
   "execution_count": 46,
   "id": "176682cd",
   "metadata": {},
   "outputs": [
    {
     "data": {
      "text/plain": [
       "(array([False,  True,  True, False,  True,  True,  True]),\n",
       " array([[-0.80153321, -0.57649132, -1.37496885, -2.04898672],\n",
       "        [ 0.71873856,  1.96076091, -1.82102094,  0.59354976],\n",
       "        [-0.25707614,  0.52670165,  1.16292375,  0.45790536],\n",
       "        [-1.15335259, -0.45453891,  0.31761188, -0.12324829],\n",
       "        [-2.30168019, -0.4807103 , -0.60768044,  1.30164605]]))"
      ]
     },
     "execution_count": 46,
     "metadata": {},
     "output_type": "execute_result"
    }
   ],
   "source": [
    "names != 'Bob', data[(names != 'Bob')]"
   ]
  },
  {
   "cell_type": "code",
   "execution_count": 49,
   "id": "4d6ffd74",
   "metadata": {},
   "outputs": [
    {
     "data": {
      "text/plain": [
       "(array([ True, False,  True,  True,  True, False, False]),\n",
       " array([[ 0.90018319,  1.14245637,  0.43330602, -0.04470062],\n",
       "        [ 0.71873856,  1.96076091, -1.82102094,  0.59354976],\n",
       "        [-0.57997128, -0.10988428,  0.66701748, -0.42241233],\n",
       "        [-0.25707614,  0.52670165,  1.16292375,  0.45790536]]))"
      ]
     },
     "execution_count": 49,
     "metadata": {},
     "output_type": "execute_result"
    }
   ],
   "source": [
    "mask = (names =='Bob') | (names == 'Will')\n",
    "mask, data[mask]"
   ]
  },
  {
   "cell_type": "code",
   "execution_count": 50,
   "id": "d05f8c49",
   "metadata": {},
   "outputs": [
    {
     "data": {
      "text/plain": [
       "array([[0.90018319, 1.14245637, 0.43330602, 0.        ],\n",
       "       [0.        , 0.        , 0.        , 0.        ],\n",
       "       [0.71873856, 1.96076091, 0.        , 0.59354976],\n",
       "       [0.        , 0.        , 0.66701748, 0.        ],\n",
       "       [0.        , 0.52670165, 1.16292375, 0.45790536],\n",
       "       [0.        , 0.        , 0.31761188, 0.        ],\n",
       "       [0.        , 0.        , 0.        , 1.30164605]])"
      ]
     },
     "execution_count": 50,
     "metadata": {},
     "output_type": "execute_result"
    }
   ],
   "source": [
    "data[data < 0] = 0\n",
    "data"
   ]
  },
  {
   "cell_type": "code",
   "execution_count": 51,
   "id": "a2de5115",
   "metadata": {},
   "outputs": [
    {
     "data": {
      "text/plain": [
       "(array([ True, False,  True,  True,  True, False, False]),\n",
       " array([[7.        , 7.        , 7.        , 7.        ],\n",
       "        [0.        , 0.        , 0.        , 0.        ],\n",
       "        [7.        , 7.        , 7.        , 7.        ],\n",
       "        [7.        , 7.        , 7.        , 7.        ],\n",
       "        [7.        , 7.        , 7.        , 7.        ],\n",
       "        [0.        , 0.        , 0.31761188, 0.        ],\n",
       "        [0.        , 0.        , 0.        , 1.30164605]]))"
      ]
     },
     "execution_count": 51,
     "metadata": {},
     "output_type": "execute_result"
    }
   ],
   "source": [
    "data[names != 'Joe'] = 7\n",
    "names != 'Joe', data"
   ]
  },
  {
   "cell_type": "markdown",
   "id": "93312764",
   "metadata": {},
   "source": [
    "## Fancy Index"
   ]
  },
  {
   "cell_type": "code",
   "execution_count": 52,
   "id": "f79a85b9",
   "metadata": {},
   "outputs": [
    {
     "data": {
      "text/plain": [
       "array([[0., 0., 0., 0.],\n",
       "       [1., 1., 1., 1.],\n",
       "       [2., 2., 2., 2.],\n",
       "       [3., 3., 3., 3.],\n",
       "       [4., 4., 4., 4.],\n",
       "       [5., 5., 5., 5.],\n",
       "       [6., 6., 6., 6.],\n",
       "       [7., 7., 7., 7.]])"
      ]
     },
     "execution_count": 52,
     "metadata": {},
     "output_type": "execute_result"
    }
   ],
   "source": [
    "arr = np.zeros((8, 4))\n",
    "for i in range(8):\n",
    "    arr[i] = i\n",
    "arr"
   ]
  },
  {
   "cell_type": "code",
   "execution_count": 53,
   "id": "67886cf5",
   "metadata": {},
   "outputs": [
    {
     "data": {
      "text/plain": [
       "array([[4., 4., 4., 4.],\n",
       "       [3., 3., 3., 3.],\n",
       "       [0., 0., 0., 0.],\n",
       "       [6., 6., 6., 6.]])"
      ]
     },
     "execution_count": 53,
     "metadata": {},
     "output_type": "execute_result"
    }
   ],
   "source": [
    "arr[[4,3,0,6]] # arr row index[4,3,0,6]"
   ]
  },
  {
   "cell_type": "code",
   "execution_count": 54,
   "id": "ca40f5be",
   "metadata": {},
   "outputs": [
    {
     "data": {
      "text/plain": [
       "array([[5., 5., 5., 5.],\n",
       "       [3., 3., 3., 3.],\n",
       "       [1., 1., 1., 1.]])"
      ]
     },
     "execution_count": 54,
     "metadata": {},
     "output_type": "execute_result"
    }
   ],
   "source": [
    "arr[[-3, -5, -7]]"
   ]
  },
  {
   "cell_type": "code",
   "execution_count": 56,
   "id": "8e91ce6f",
   "metadata": {},
   "outputs": [
    {
     "data": {
      "text/plain": [
       "(array([[ 0,  1,  2,  3],\n",
       "        [ 4,  5,  6,  7],\n",
       "        [ 8,  9, 10, 11],\n",
       "        [12, 13, 14, 15],\n",
       "        [16, 17, 18, 19],\n",
       "        [20, 21, 22, 23],\n",
       "        [24, 25, 26, 27],\n",
       "        [28, 29, 30, 31]]),\n",
       " array([ 4, 23, 29, 10]))"
      ]
     },
     "execution_count": 56,
     "metadata": {},
     "output_type": "execute_result"
    }
   ],
   "source": [
    "arr = np.arange(32).reshape((8,4))\n",
    "arr, arr[[1,5,7,2], [0,3,1,2]] # (1,0)(5,3)(7,1)(2,2) index"
   ]
  },
  {
   "cell_type": "markdown",
   "id": "d12dd499",
   "metadata": {},
   "source": [
    "## Transposing Arrays and Swapping Axes"
   ]
  },
  {
   "cell_type": "code",
   "execution_count": 60,
   "id": "307d8e01",
   "metadata": {},
   "outputs": [
    {
     "data": {
      "text/plain": [
       "(array([[ 0,  1,  2,  3,  4],\n",
       "        [ 5,  6,  7,  8,  9],\n",
       "        [10, 11, 12, 13, 14]]),\n",
       " array([[ 0,  5, 10],\n",
       "        [ 1,  6, 11],\n",
       "        [ 2,  7, 12],\n",
       "        [ 3,  8, 13],\n",
       "        [ 4,  9, 14]]),\n",
       " array([[ 0,  5, 10],\n",
       "        [ 1,  6, 11],\n",
       "        [ 2,  7, 12],\n",
       "        [ 3,  8, 13],\n",
       "        [ 4,  9, 14]]))"
      ]
     },
     "execution_count": 60,
     "metadata": {},
     "output_type": "execute_result"
    }
   ],
   "source": [
    "arr = np.arange(15).reshape((3,5))\n",
    "arr, arr.T, np.transpose(arr)"
   ]
  },
  {
   "cell_type": "markdown",
   "id": "ac302253",
   "metadata": {},
   "source": [
    "## Universal Functions\n",
    "- ufunc: universal function, which is a function that can, in some defined way, imitate all other funcitons\n",
    "- e.g. sqrt(), sin(), cos(), dot(), log(), exp()"
   ]
  },
  {
   "cell_type": "markdown",
   "id": "7c53ddcf",
   "metadata": {},
   "source": [
    "## Fast Element-wise Array Functions\n",
    "sqrt(), exp()"
   ]
  },
  {
   "cell_type": "code",
   "execution_count": 63,
   "id": "82f0e518",
   "metadata": {},
   "outputs": [
    {
     "name": "stdout",
     "output_type": "stream",
     "text": [
      "arr = \n",
      "[[0 1 2]\n",
      " [3 4 5]\n",
      " [6 7 8]]\n",
      "\n",
      "np.sqrt(arr) =\n",
      "[[0.         1.         1.41421356]\n",
      " [1.73205081 2.         2.23606798]\n",
      " [2.44948974 2.64575131 2.82842712]]\n",
      "\n",
      "np.sqrt(arr.round(2) =\n",
      "[[0.   1.   1.41]\n",
      " [1.73 2.   2.24]\n",
      " [2.45 2.65 2.83]]\n",
      "\n",
      "np.exp(arr) =\n",
      "[[1.00000000e+00 2.71828183e+00 7.38905610e+00]\n",
      " [2.00855369e+01 5.45981500e+01 1.48413159e+02]\n",
      " [4.03428793e+02 1.09663316e+03 2.98095799e+03]]\n"
     ]
    }
   ],
   "source": [
    "import numpy as np\n",
    "arr = np.arange(9).reshape(3,3)\n",
    "print(f'arr = \\n{arr}\\n\\n'\n",
    "      f'np.sqrt(arr) =\\n{np.sqrt(arr)}\\n\\n'\n",
    "      f'np.sqrt(arr.round(2) =\\n{np.sqrt(arr).round(2)}\\n\\n' # round to two decimal places\n",
    "      f'np.exp(arr) =\\n{np.exp(arr)}')"
   ]
  },
  {
   "cell_type": "markdown",
   "id": "8620ddc6",
   "metadata": {},
   "source": [
    "sin(), log()"
   ]
  },
  {
   "cell_type": "code",
   "execution_count": 64,
   "id": "a5010432",
   "metadata": {},
   "outputs": [
    {
     "data": {
      "text/plain": [
       "(array([ 1,  2,  3,  4,  5,  6,  7,  8,  9, 10]),\n",
       " array([ 0.84147098,  0.90929743,  0.14112001, -0.7568025 , -0.95892427,\n",
       "        -0.2794155 ,  0.6569866 ,  0.98935825,  0.41211849, -0.54402111]),\n",
       " array([0.        , 0.30103   , 0.47712125, 0.60205999, 0.69897   ,\n",
       "        0.77815125, 0.84509804, 0.90308999, 0.95424251, 1.        ]))"
      ]
     },
     "execution_count": 64,
     "metadata": {},
     "output_type": "execute_result"
    }
   ],
   "source": [
    "arr = np.arange(1, 11)\n",
    "arr, np.sin(arr, np.log(arr)), np.log10(arr)"
   ]
  },
  {
   "cell_type": "markdown",
   "id": "621eac06",
   "metadata": {},
   "source": [
    "maximum(), abs()"
   ]
  },
  {
   "cell_type": "code",
   "execution_count": 65,
   "id": "7ab563a9",
   "metadata": {},
   "outputs": [
    {
     "name": "stdout",
     "output_type": "stream",
     "text": [
      "x =\n",
      "[ 1.14977307 -1.13410754 -2.59658364  1.55223913 -0.49938708 -0.53196456\n",
      " -0.91091081  0.93749998]\n",
      "\n",
      "y =\n",
      "[-0.36772485  0.05125011  1.16459596 -1.02850547 -1.41541021  0.93166874\n",
      " -2.07822247  1.30629468]\n",
      "\n",
      "np.maximum(x, y) =\n",
      "[ 1.14977307  0.05125011  1.16459596  1.55223913 -0.49938708  0.93166874\n",
      " -0.91091081  1.30629468]\n",
      "\n",
      "np.minimum(x, y) =\n",
      "[-0.36772485 -1.13410754 -2.59658364 -1.02850547 -1.41541021 -0.53196456\n",
      " -2.07822247  0.93749998]\n",
      "\n",
      "np.abs(x) =\n",
      "[1.14977307 1.13410754 2.59658364 1.55223913 0.49938708 0.53196456\n",
      " 0.91091081 0.93749998]\n"
     ]
    }
   ],
   "source": [
    "x = np.random.randn(8) # find a random number between -3 and 3\n",
    "y = np.random.randn(8)\n",
    "print(f'x =\\n{x}\\n\\n'\n",
    "      f'y =\\n{y}\\n\\n'\n",
    "      f'np.maximum(x, y) =\\n{np.maximum(x,y)}\\n\\n'\n",
    "      f'np.minimum(x, y) =\\n{np.minimum(x,y)}\\n\\n'\n",
    "      f'np.abs(x) =\\n{np.abs(x)}')"
   ]
  },
  {
   "cell_type": "markdown",
   "id": "6bbf783c",
   "metadata": {},
   "source": [
    "## Expressing Conditional logic as Array Operations"
   ]
  },
  {
   "cell_type": "code",
   "execution_count": 66,
   "id": "92cb9dbb",
   "metadata": {},
   "outputs": [
    {
     "data": {
      "text/plain": [
       "array([ True, False,  True,  True, False])"
      ]
     },
     "execution_count": 66,
     "metadata": {},
     "output_type": "execute_result"
    }
   ],
   "source": [
    "xarr = np.array([1.1, 1.2, 1.3, 1.4, 1.5])\n",
    "yarr = np.array([2.1, 2.2, 2.3, 2.4, 2.5])\n",
    "cond = np.array([True, False, True, True, False])\n",
    "cond"
   ]
  },
  {
   "cell_type": "markdown",
   "id": "7185394c",
   "metadata": {},
   "source": [
    "## np.where(bool, True, False)\n",
    "- if true, take the second argument; otherwise, take the third one"
   ]
  },
  {
   "cell_type": "code",
   "execution_count": 70,
   "id": "7a5e811e",
   "metadata": {},
   "outputs": [
    {
     "data": {
      "text/plain": [
       "array([1.1, 2.2, 1.3, 1.4, 2.5])"
      ]
     },
     "execution_count": 70,
     "metadata": {},
     "output_type": "execute_result"
    }
   ],
   "source": [
    "result = np.where(cond, xarr, yarr) # cond true(xarr), false(yarr)\n",
    "result"
   ]
  },
  {
   "cell_type": "code",
   "execution_count": 71,
   "id": "ed0335af",
   "metadata": {},
   "outputs": [
    {
     "data": {
      "text/plain": [
       "(array([[ 1.22360293, -0.94361975, -0.88343594, -0.15671727],\n",
       "        [ 0.82071396,  1.36347822, -0.66973938,  1.41633865],\n",
       "        [-0.73519396,  0.36314334,  0.77968333,  0.45439511],\n",
       "        [-0.68925173,  0.02032924,  1.50832316, -0.09759425]]),\n",
       " array([[ 2, -2, -2, -2],\n",
       "        [ 2,  2, -2,  2],\n",
       "        [-2,  2,  2,  2],\n",
       "        [-2,  2,  2, -2]]))"
      ]
     },
     "execution_count": 71,
     "metadata": {},
     "output_type": "execute_result"
    }
   ],
   "source": [
    "arr = np.random.randn(4,4)\n",
    "arr, np.where(arr > 0, 2, -2)"
   ]
  },
  {
   "cell_type": "code",
   "execution_count": 73,
   "id": "6ad3b2f9",
   "metadata": {},
   "outputs": [
    {
     "data": {
      "text/plain": [
       "array([[ 2.        , -0.94361975, -0.88343594, -0.15671727],\n",
       "       [ 2.        ,  2.        , -0.66973938,  2.        ],\n",
       "       [-0.73519396,  2.        ,  2.        ,  2.        ],\n",
       "       [-0.68925173,  2.        ,  2.        , -0.09759425]])"
      ]
     },
     "execution_count": 73,
     "metadata": {},
     "output_type": "execute_result"
    }
   ],
   "source": [
    "np.where(arr > 0, 2, arr) # set only positive values to 2"
   ]
  },
  {
   "cell_type": "markdown",
   "id": "983b41ba",
   "metadata": {},
   "source": [
    "## Stack & Split"
   ]
  },
  {
   "cell_type": "code",
   "execution_count": 78,
   "id": "cc8c881f",
   "metadata": {},
   "outputs": [
    {
     "name": "stdout",
     "output_type": "stream",
     "text": [
      "a: [1 2 3]\n",
      "b: [4 5 6]\n",
      "\n",
      "[[1 2 3]\n",
      " [4 5 6]] \n",
      "shape\t: [[1 2 3]\n",
      " [4 5 6]] \n",
      "\n",
      "[[1 4]\n",
      " [2 5]\n",
      " [3 6]] \n",
      "shape\t: (3, 2)\n"
     ]
    }
   ],
   "source": [
    "a = np.array([1, 2 ,3])\n",
    "b = np.array([4, 5, 6])\n",
    "\n",
    "print(f'a: {a}\\nb: {b}\\n')\n",
    "\n",
    "print(np.stack((a,b), axis = 0), '\\nshape\\t:', np.stack((a,b), axis = 0), '\\n')\n",
    "print(np.stack((a,b), axis = 1), '\\nshape\\t:', np.stack((a,b), axis = 1).shape)"
   ]
  },
  {
   "cell_type": "code",
   "execution_count": 79,
   "id": "4f98ae82",
   "metadata": {},
   "outputs": [
    {
     "data": {
      "text/plain": [
       "array([[1, 2, 3],\n",
       "       [4, 5, 6]])"
      ]
     },
     "execution_count": 79,
     "metadata": {},
     "output_type": "execute_result"
    }
   ],
   "source": [
    "np.vstack((a,b)) # vertical stack # same as np.stack((a,b), axis = 1)"
   ]
  },
  {
   "cell_type": "code",
   "execution_count": 80,
   "id": "922bee99",
   "metadata": {},
   "outputs": [
    {
     "data": {
      "text/plain": [
       "array([1, 2, 3, 4, 5, 6])"
      ]
     },
     "execution_count": 80,
     "metadata": {},
     "output_type": "execute_result"
    }
   ],
   "source": [
    "np.hstack((a,b)) # horizontal stack"
   ]
  },
  {
   "cell_type": "code",
   "execution_count": 83,
   "id": "f7189dfb",
   "metadata": {},
   "outputs": [
    {
     "data": {
      "text/plain": [
       "array([1, 2, 3, 4, 5, 6])"
      ]
     },
     "execution_count": 83,
     "metadata": {},
     "output_type": "execute_result"
    }
   ],
   "source": [
    "np.concatenate([a,b], axis = 0) "
   ]
  },
  {
   "cell_type": "code",
   "execution_count": 85,
   "id": "acc14752",
   "metadata": {},
   "outputs": [
    {
     "name": "stdout",
     "output_type": "stream",
     "text": [
      "[[ 1.82482397 -0.66491538]\n",
      " [-0.9228546   1.04377606]\n",
      " [ 0.93386315  1.04189794]\n",
      " [-0.37375057  0.54277826]\n",
      " [-0.02479118  0.77547127]]\n"
     ]
    },
    {
     "data": {
      "text/plain": [
       "(array([[ 1.82482397, -0.66491538]]),\n",
       " array([[-0.9228546 ,  1.04377606],\n",
       "        [ 0.93386315,  1.04189794]]),\n",
       " array([[-0.37375057,  0.54277826],\n",
       "        [-0.02479118,  0.77547127]]))"
      ]
     },
     "execution_count": 85,
     "metadata": {},
     "output_type": "execute_result"
    }
   ],
   "source": [
    "arr = np.random.randn(5,2)\n",
    "print(arr)\n",
    "first, second, third = np.split(arr, [1,3])\n",
    "first, second, third"
   ]
  },
  {
   "cell_type": "markdown",
   "id": "ccb6b266",
   "metadata": {},
   "source": [
    "## Broadcasting\n",
    "When operating on two arrays, NumPy compares their shapes element-wise. It starts with the trailing (i.e. rightmost) dimension and works its way left. Two dimensions are compatible when\n",
    "\n",
    "- they are equal, or\n",
    "- one of them is 1."
   ]
  },
  {
   "cell_type": "code",
   "execution_count": 87,
   "id": "3d71e512",
   "metadata": {},
   "outputs": [
    {
     "data": {
      "text/plain": [
       "(array([0, 1, 2, 3, 4]), array([ 0,  4,  8, 12, 16]))"
      ]
     },
     "execution_count": 87,
     "metadata": {},
     "output_type": "execute_result"
    }
   ],
   "source": [
    "arr = np.arange(5)\n",
    "arr, arr*4"
   ]
  },
  {
   "cell_type": "code",
   "execution_count": 90,
   "id": "8c12d9db",
   "metadata": {},
   "outputs": [
    {
     "name": "stdout",
     "output_type": "stream",
     "text": [
      "[[ 2.20176925  0.14535325 -0.88906144]\n",
      " [-0.14222404  0.37121742 -0.50355675]\n",
      " [ 1.06574787 -0.53056219  0.66630105]\n",
      " [ 0.49481133 -1.3895812  -0.28033782]] \n",
      "mean:  [ 0.9050261  -0.35089318 -0.25166374] \n",
      "\n",
      "[[ 1.29674315  0.49624643 -0.6373977 ]\n",
      " [-1.04725014  0.7221106  -0.25189301]\n",
      " [ 0.16072176 -0.17966901  0.91796479]\n",
      " [-0.41021478 -1.03868802 -0.02867408]] \n",
      "demeaned:  [ 1.38777878e-17 -5.55111512e-17  0.00000000e+00] \n",
      "\n"
     ]
    }
   ],
   "source": [
    "arr = np.random.randn(4, 3)\n",
    "print(arr, '\\nmean: ', arr.mean(0), '\\n') # 0: row\n",
    "\n",
    "demeaned = arr- arr.mean(0)\n",
    "print(demeaned, '\\ndemeaned: ', demeaned.mean(0), '\\n') # almost 0"
   ]
  },
  {
   "cell_type": "code",
   "execution_count": 91,
   "id": "507d39be",
   "metadata": {},
   "outputs": [
    {
     "name": "stdout",
     "output_type": "stream",
     "text": [
      "arr :\n",
      "[[ 2.20176925  0.14535325 -0.88906144]\n",
      " [-0.14222404  0.37121742 -0.50355675]\n",
      " [ 1.06574787 -0.53056219  0.66630105]\n",
      " [ 0.49481133 -1.3895812  -0.28033782]]\n",
      "\n",
      "row_means(1)\t\t: [ 0.48602036 -0.09152112  0.40049557 -0.39170256]\n",
      "row_means.shape\t: (4,)\n",
      "\n"
     ]
    }
   ],
   "source": [
    "row_means = arr.mean(1)\n",
    "\n",
    "print(f'arr :\\n{arr}\\n\\n'\n",
    "      f'row_means(1)\\t\\t: {row_means}\\n'\n",
    "      f'row_means.shape\\t: {row_means.shape}\\n')"
   ]
  },
  {
   "cell_type": "code",
   "execution_count": null,
   "id": "aeb9fefb",
   "metadata": {},
   "outputs": [],
   "source": []
  }
 ],
 "metadata": {
  "kernelspec": {
   "display_name": "Python 3 (ipykernel)",
   "language": "python",
   "name": "python3"
  },
  "language_info": {
   "codemirror_mode": {
    "name": "ipython",
    "version": 3
   },
   "file_extension": ".py",
   "mimetype": "text/x-python",
   "name": "python",
   "nbconvert_exporter": "python",
   "pygments_lexer": "ipython3",
   "version": "3.12.7"
  }
 },
 "nbformat": 4,
 "nbformat_minor": 5
}
