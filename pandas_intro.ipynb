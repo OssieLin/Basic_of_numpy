{
 "cells": [
  {
   "cell_type": "markdown",
   "id": "2e99ac7b",
   "metadata": {},
   "source": [
    "# Introducing pandas\n",
    "- pandas helps us to explore, clean, and process the data. In pandas, a data table is called a DataFrame\n",
    "- pandas mainly provdies two data structures, __Series__ and __DataFrame\n",
    "  - Series is a 1D array-like object that can hold data of any type with index. \n",
    "  - Dataframe is a 2D table with rows and columns, e.g. csv(comma-separated values) and RDBMS(relational database management system)\n",
    "  - __Series is the data structure for a single column of a DataFrame__\n",
    "  - https://stackoverflow.com/questions/26047209/what-is-the-difference-between-a-pandas-series-and-a-single-column-dataframe\n",
    "- good for data cleaning before feeding into model\n"
   ]
  },
  {
   "cell_type": "code",
   "execution_count": 1,
   "id": "d8c68d0b",
   "metadata": {},
   "outputs": [
    {
     "data": {
      "text/plain": [
       "('1.24.3', '1.5.3')"
      ]
     },
     "execution_count": 1,
     "metadata": {},
     "output_type": "execute_result"
    }
   ],
   "source": [
    "import numpy as np\n",
    "import pandas as pd\n",
    "np.__version__, pd.__version__"
   ]
  },
  {
   "cell_type": "markdown",
   "id": "d121d836",
   "metadata": {},
   "source": [
    "## The pandas Series object\n",
    "- list vs. array vs. Series: __array-like__"
   ]
  },
  {
   "cell_type": "code",
   "execution_count": 4,
   "id": "927ce37c",
   "metadata": {},
   "outputs": [
    {
     "name": "stdout",
     "output_type": "stream",
     "text": [
      "lst1\t\t [0.25, 0.5, -0.75, 1]\n",
      "np_array\t= [ 0.25  0.5  -0.75  1.  ]\n",
      "\n",
      "ser1 =\n",
      "0    0.25\n",
      "1    0.50\n",
      "2   -0.75\n",
      "3    1.00\n",
      "dtype: float64\n",
      "\n",
      "type(ser1) : <class 'pandas.core.series.Series'>\n",
      "\n",
      "ser2 =\n",
      "0    0.25\n",
      "1    0.50\n",
      "2   -0.75\n",
      "3    1.00\n",
      "dtype: float64\n"
     ]
    }
   ],
   "source": [
    "# float\n",
    "lst1 = [0.25, 0.5, -0.75, 1] # list\n",
    "np_array = np.array([0.25, 0.5, -0.75, 1]) # array\n",
    "\n",
    "ser1 = pd.Series([0.25, 0.5, -0.75, 1]) # list to Series\n",
    "ser2 = pd.Series(np.array([0.25, 0.5, -0.75, 1])) # array to Series\n",
    "\n",
    "print(f'lst1\\t\\t {lst1}\\n'\n",
    "      f'np_array\\t= {np_array}\\n\\n'\n",
    "      f'ser1 =\\n{ser1}\\n\\n'\n",
    "      f'type(ser1) : {type(ser1)}\\n\\n'\n",
    "      f'ser2 =\\n{ser2}')"
   ]
  },
  {
   "cell_type": "markdown",
   "id": "3c4d1ba6",
   "metadata": {},
   "source": [
    "## Boolean / Logical & Arithmetic operation"
   ]
  },
  {
   "cell_type": "code",
   "execution_count": 7,
   "id": "77e225a6",
   "metadata": {},
   "outputs": [
    {
     "name": "stdout",
     "output_type": "stream",
     "text": [
      "ser1 =\n",
      "0    0.25\n",
      "1    0.50\n",
      "2   -0.75\n",
      "3    1.00\n",
      "dtype: float64\n",
      "\n",
      "ser1[ser1>0] =\n",
      "0    0.25\n",
      "1    0.50\n",
      "3    1.00\n",
      "dtype: float64\n",
      "\n",
      "ser1*2 =\n",
      "0    0.5\n",
      "1    1.0\n",
      "2   -1.5\n",
      "3    2.0\n",
      "dtype: float64\n",
      "\n",
      "np.exp(ser1) =\n",
      "0    1.284025\n",
      "1    1.648721\n",
      "2    0.472367\n",
      "3    2.718282\n",
      "dtype: float64\n"
     ]
    }
   ],
   "source": [
    "print(f'ser1 =\\n{ser1}\\n\\n'\n",
    "      f'ser1[ser1>0] =\\n{ser1[ser1>0]}\\n\\n' # filter out the element less than 0\n",
    "      f'ser1*2 =\\n{ser1*2}\\n\\n'\n",
    "      f'np.exp(ser1) =\\n{np.exp(ser1)}')"
   ]
  },
  {
   "cell_type": "markdown",
   "id": "f9ac189a",
   "metadata": {},
   "source": [
    "## Membership Operators"
   ]
  },
  {
   "cell_type": "code",
   "execution_count": 10,
   "id": "277a8ec6",
   "metadata": {},
   "outputs": [
    {
     "name": "stdout",
     "output_type": "stream",
     "text": [
      "0    0.25\n",
      "1    0.50\n",
      "2   -0.75\n",
      "3    1.00\n",
      "dtype: float64\n",
      "\n",
      "2 in ser1\t: True\n",
      "0.5 in ser1\t: False\n"
     ]
    }
   ],
   "source": [
    "print(f'{ser1}\\n\\n'\n",
    "      f'2 in ser1\\t: {2 in ser1}\\n' # 2 is index, not value\n",
    "      f'0.5 in ser1\\t: {0.5 in ser1}') #1, 2 are indexes, not values"
   ]
  },
  {
   "cell_type": "markdown",
   "id": "01c2bf6f",
   "metadata": {},
   "source": [
    "## dtype: object, showing that some element is not numbers"
   ]
  },
  {
   "cell_type": "code",
   "execution_count": 11,
   "id": "2bbb4f45",
   "metadata": {},
   "outputs": [
    {
     "name": "stdout",
     "output_type": "stream",
     "text": [
      "0     0.25\n",
      "1      0.5\n",
      "2    hello\n",
      "3      1.0\n",
      "dtype: object\n"
     ]
    },
    {
     "data": {
      "text/plain": [
       "(0     0.25\n",
       " 1      0.5\n",
       " 2    hello\n",
       " 3      1.0\n",
       " dtype: object,\n",
       " None)"
      ]
     },
     "execution_count": 11,
     "metadata": {},
     "output_type": "execute_result"
    }
   ],
   "source": [
    "ser1 = pd.Series([0.25, 0.5, 'hello', 1.0])\n",
    "ser1, print(ser1)"
   ]
  },
  {
   "cell_type": "markdown",
   "id": "d249a6b8",
   "metadata": {},
   "source": [
    "## __Series__ as generalized __Numpy Array__ (key like dictionary)"
   ]
  },
  {
   "cell_type": "code",
   "execution_count": null,
   "id": "842efb1d",
   "metadata": {},
   "outputs": [],
   "source": []
  },
  {
   "cell_type": "code",
   "execution_count": 14,
   "id": "1c4ae85f",
   "metadata": {},
   "outputs": [
    {
     "name": "stdout",
     "output_type": "stream",
     "text": [
      "data =\n",
      "a    0.25\n",
      "b    0.50\n",
      "c    0.75\n",
      "d    1.00\n",
      "dtype: float64\n",
      "\n",
      "data_np\t= [0.25 0.5  0.75 1.  ]\n",
      "data['b']\t= 0.5\n",
      "data_np[2]\t=0.75\n",
      "\n"
     ]
    }
   ],
   "source": [
    "data = pd.Series([0.25, 0.5, 0.75, 1.0], index = ['a', 'b', 'c', 'd'])\n",
    "# data = pd.Series([0.25, 0.5, 0.75, 1.0], index=list('a','b','c','d'))\n",
    "data_np = np.array([0.25, 0.5, 0.75, 1.0])\n",
    "print(f'data =\\n{data}\\n\\n'\n",
    "     f'data_np\\t= {data_np}\\n'\n",
    "     f\"data['b']\\t= {data['b']}\\n\" # like dictionary where given a key, retrieve a value\n",
    "     f'data_np[2]\\t={data_np[2]}\\n')"
   ]
  },
  {
   "cell_type": "code",
   "execution_count": 15,
   "id": "a69d740a",
   "metadata": {},
   "outputs": [
    {
     "data": {
      "text/plain": [
       "2    0.25\n",
       "5    0.50\n",
       "3    0.75\n",
       "7    1.00\n",
       "dtype: float64"
      ]
     },
     "execution_count": 15,
     "metadata": {},
     "output_type": "execute_result"
    }
   ],
   "source": [
    "data = pd.Series([0.25, 0.5, 0.75, 1.0], index = [2,5,3,7])\n",
    "data # index by numbers(as strings)"
   ]
  },
  {
   "cell_type": "markdown",
   "id": "a288e960",
   "metadata": {},
   "source": [
    "## dict. to Series(key as index)"
   ]
  },
  {
   "cell_type": "code",
   "execution_count": 17,
   "id": "09631e56",
   "metadata": {},
   "outputs": [
    {
     "data": {
      "text/plain": [
       "(A     apple\n",
       " B    banana\n",
       " C    cherry\n",
       " dtype: object,\n",
       " A     apple\n",
       " B    banana\n",
       " dtype: object)"
      ]
     },
     "execution_count": 17,
     "metadata": {},
     "output_type": "execute_result"
    }
   ],
   "source": [
    "data = pd.Series({'A': 'apple', 'B': 'banana', 'C': 'cherry'})\n",
    "data, data['A':'B'] # retrieving the value of 'A' and 'B' using slicing"
   ]
  },
  {
   "cell_type": "markdown",
   "id": "839657c9",
   "metadata": {},
   "source": [
    "## __Series__ as specialized dictionary"
   ]
  },
  {
   "cell_type": "code",
   "execution_count": 20,
   "id": "b83bd9bb",
   "metadata": {},
   "outputs": [
    {
     "data": {
      "text/plain": [
       "California    38332521\n",
       "Texas         26448193\n",
       "New York      19651127\n",
       "Florida       19552860\n",
       "Illinois      12882135\n",
       "dtype: int64"
      ]
     },
     "execution_count": 20,
     "metadata": {},
     "output_type": "execute_result"
    }
   ],
   "source": [
    "population_dict = {'California': 38332521, 'Texas' : 26448193, \n",
    "                    'New York' : 19651127, 'Florida' : 19552860,\n",
    "                    'Illinois' : 12882135}\n",
    "population = pd.Series(population_dict)\n",
    "population"
   ]
  },
  {
   "cell_type": "code",
   "execution_count": 23,
   "id": "b20cec4b",
   "metadata": {},
   "outputs": [
    {
     "data": {
      "text/plain": [
       "(38332521, 26448193)"
      ]
     },
     "execution_count": 23,
     "metadata": {},
     "output_type": "execute_result"
    }
   ],
   "source": [
    "# Given a key, retrieve a value\n",
    "population['California'], population_dict['Texas']"
   ]
  },
  {
   "cell_type": "markdown",
   "id": "829e7641",
   "metadata": {},
   "source": [
    "## slice: only for Series, not dict."
   ]
  },
  {
   "cell_type": "code",
   "execution_count": 26,
   "id": "fbf2a46f",
   "metadata": {},
   "outputs": [
    {
     "name": "stdout",
     "output_type": "stream",
     "text": [
      "California    38332521\n",
      "Texas         26448193\n",
      "New York      19651127\n",
      "Florida       19552860\n",
      "Illinois      12882135\n",
      "dtype: int64\n",
      "\n",
      "California    38332521\n",
      "Texas         26448193\n",
      "New York      19651127\n",
      "dtype: int64\n"
     ]
    }
   ],
   "source": [
    "print(f'{population}\\n\\n'\n",
    "      f\"{population['California' : 'New York']}\") # slice from cali to ny"
   ]
  },
  {
   "cell_type": "markdown",
   "id": "831f155f",
   "metadata": {},
   "source": [
    "## Series Attributes"
   ]
  },
  {
   "cell_type": "code",
   "execution_count": 46,
   "id": "15883fbb",
   "metadata": {},
   "outputs": [
    {
     "name": "stdout",
     "output_type": "stream",
     "text": [
      "0    0.25\n",
      "1    0.50\n",
      "2    0.75\n",
      "3    1.00\n",
      "dtype: float64\n",
      "[0.25 0.5  0.75 1.  ]\n",
      "RangeIndex(start=0, stop=4, step=1)\n",
      "(4,)\n",
      "1\n",
      "float64\n",
      "4\n",
      "32\n"
     ]
    }
   ],
   "source": [
    "data = pd.Series([0.25, 0.5, 0.75, 1.0])\n",
    "print(data)\n",
    "print(data.values)\n",
    "print(data.index)\n",
    "print(data.shape)\n",
    "print(data.ndim)\n",
    "print(data.dtypes)\n",
    "print(data.size)\n",
    "print(data.nbytes)"
   ]
  },
  {
   "cell_type": "markdown",
   "id": "b7224e60",
   "metadata": {},
   "source": [
    "## Index vs. Slice"
   ]
  },
  {
   "cell_type": "code",
   "execution_count": 47,
   "id": "0e796f1c",
   "metadata": {},
   "outputs": [
    {
     "name": "stdout",
     "output_type": "stream",
     "text": [
      "data[1]\t=\n",
      "0    0.25\n",
      "1    0.50\n",
      "2    0.75\n",
      "3    1.00\n",
      "dtype: float64\n",
      "\n",
      "data[1]\t= 0.5\n",
      "\n",
      "data[1:3] =\n",
      "1    0.50\n",
      "2    0.75\n",
      "dtype: float64\n"
     ]
    }
   ],
   "source": [
    "print(f'data[1]\\t=\\n{data}\\n\\n'\n",
    "      f'data[1]\\t= {data[1]}\\n\\n'\n",
    "      f'data[1:3] =\\n{data[1:3]}')"
   ]
  },
  {
   "cell_type": "markdown",
   "id": "b5d9b9b0",
   "metadata": {},
   "source": [
    "## Axis Indexes with Duplicate Labels"
   ]
  },
  {
   "cell_type": "code",
   "execution_count": 48,
   "id": "aebce0df",
   "metadata": {},
   "outputs": [
    {
     "name": "stdout",
     "output_type": "stream",
     "text": [
      "a    0\n",
      "a    1\n",
      "b    2\n",
      "b    3\n",
      "c    4\n",
      "dtype: int64\n",
      "\n",
      "a    0\n",
      "a    1\n",
      "dtype: int64\n"
     ]
    }
   ],
   "source": [
    "obj = pd.Series(range(5), index=['a','a','b','b','c']) # index can be repetitive\n",
    "\n",
    "# get all objects with index 'a'\n",
    "print(f\"{obj}\\n\\n{obj['a']}\")"
   ]
  },
  {
   "cell_type": "markdown",
   "id": "79c15cfe",
   "metadata": {},
   "source": [
    "## check if index is unique\n",
    "- index.is_unique"
   ]
  },
  {
   "cell_type": "code",
   "execution_count": 49,
   "id": "b926f297",
   "metadata": {},
   "outputs": [
    {
     "data": {
      "text/plain": [
       "False"
      ]
     },
     "execution_count": 49,
     "metadata": {},
     "output_type": "execute_result"
    }
   ],
   "source": [
    "obj.index.is_unique # boolean showing that this obj has repetitive elements"
   ]
  },
  {
   "cell_type": "markdown",
   "id": "4c800778",
   "metadata": {},
   "source": [
    "## Series name is column name in DataFrame"
   ]
  },
  {
   "cell_type": "code",
   "execution_count": 50,
   "id": "5a0a83ed",
   "metadata": {},
   "outputs": [
    {
     "data": {
      "text/plain": [
       "(0    0.25\n",
       " 1    0.50\n",
       " 2    0.75\n",
       " 3    1.00\n",
       " 4     NaN\n",
       " 5     NaN\n",
       " Name: myseries, dtype: float64,\n",
       "    myseries\n",
       " 0      0.25\n",
       " 1      0.50\n",
       " 2      0.75\n",
       " 3      1.00\n",
       " 4       NaN\n",
       " 5       NaN,\n",
       " Index(['myseries'], dtype='object'))"
      ]
     },
     "execution_count": 50,
     "metadata": {},
     "output_type": "execute_result"
    }
   ],
   "source": [
    "data = pd.Series([0.25, 0.5, 0.75, 1.0, None, np.nan])\n",
    "data.name = 'myseries'\n",
    "data, pd.DataFrame(data), pd.DataFrame(data).columns"
   ]
  },
  {
   "cell_type": "markdown",
   "id": "3201650d",
   "metadata": {},
   "source": [
    "## Index as immutable array"
   ]
  },
  {
   "cell_type": "code",
   "execution_count": 53,
   "id": "9872fde9",
   "metadata": {},
   "outputs": [
    {
     "data": {
      "text/plain": [
       "Int64Index([2, 3, 5, 7, 11], dtype='int64')"
      ]
     },
     "execution_count": 53,
     "metadata": {},
     "output_type": "execute_result"
    }
   ],
   "source": [
    "ind = pd.Index([2,3,5,7,11])\n",
    "ind"
   ]
  },
  {
   "cell_type": "code",
   "execution_count": 54,
   "id": "df9d18a1",
   "metadata": {},
   "outputs": [
    {
     "name": "stdout",
     "output_type": "stream",
     "text": [
      "3\n",
      "\n",
      "Int64Index([2, 5, 11], dtype='int64')\n"
     ]
    }
   ],
   "source": [
    "print(f'{ind[1]}\\n\\n'\n",
    "      f'{ind[::2]}')"
   ]
  },
  {
   "cell_type": "code",
   "execution_count": 56,
   "id": "82a86cc7",
   "metadata": {},
   "outputs": [
    {
     "ename": "TypeError",
     "evalue": "Index does not support mutable operations",
     "output_type": "error",
     "traceback": [
      "\u001b[0;31m---------------------------------------------------------------------------\u001b[0m",
      "\u001b[0;31mTypeError\u001b[0m                                 Traceback (most recent call last)",
      "Cell \u001b[0;32mIn[56], line 1\u001b[0m\n\u001b[0;32m----> 1\u001b[0m ind[\u001b[38;5;241m1\u001b[39m] \u001b[38;5;241m=\u001b[39m \u001b[38;5;241m0\u001b[39m\n",
      "File \u001b[0;32m~/anaconda3/lib/python3.11/site-packages/pandas/core/indexes/base.py:5302\u001b[0m, in \u001b[0;36mIndex.__setitem__\u001b[0;34m(self, key, value)\u001b[0m\n\u001b[1;32m   5300\u001b[0m \u001b[38;5;129m@final\u001b[39m\n\u001b[1;32m   5301\u001b[0m \u001b[38;5;28;01mdef\u001b[39;00m \u001b[38;5;21m__setitem__\u001b[39m(\u001b[38;5;28mself\u001b[39m, key, value):\n\u001b[0;32m-> 5302\u001b[0m     \u001b[38;5;28;01mraise\u001b[39;00m \u001b[38;5;167;01mTypeError\u001b[39;00m(\u001b[38;5;124m\"\u001b[39m\u001b[38;5;124mIndex does not support mutable operations\u001b[39m\u001b[38;5;124m\"\u001b[39m)\n",
      "\u001b[0;31mTypeError\u001b[0m: Index does not support mutable operations"
     ]
    }
   ],
   "source": [
    "ind[1] = 0 ## index does not support mutable operations"
   ]
  },
  {
   "cell_type": "markdown",
   "id": "27217be6",
   "metadata": {},
   "source": [
    "## Multi index"
   ]
  },
  {
   "cell_type": "code",
   "execution_count": 55,
   "id": "f76e0013",
   "metadata": {},
   "outputs": [
    {
     "data": {
      "text/plain": [
       "MultiIndex([('TP', 1),\n",
       "            ('TP', 3),\n",
       "            ('TY', 1),\n",
       "            ('TY', 6),\n",
       "            ('KS', 2)],\n",
       "           )"
      ]
     },
     "execution_count": 55,
     "metadata": {},
     "output_type": "execute_result"
    }
   ],
   "source": [
    "ind = pd.Index([('TP', 1), ('TP', 3), ('TY', 1), ('TY', 6), ('KS', 2)])\n",
    "ind"
   ]
  },
  {
   "cell_type": "code",
   "execution_count": 57,
   "id": "1f0b892e",
   "metadata": {},
   "outputs": [
    {
     "data": {
      "text/plain": [
       "(5, (5,), 1, dtype('O'))"
      ]
     },
     "execution_count": 57,
     "metadata": {},
     "output_type": "execute_result"
    }
   ],
   "source": [
    "ind.size, ind.shape, ind.ndim, ind.dtype"
   ]
  },
  {
   "cell_type": "markdown",
   "id": "0b8125bb",
   "metadata": {},
   "source": [
    "## loc: __label__ indexing\n",
    "## iloc: __positional__ indexing (integer-location, in which values can only be retrieved with integers)"
   ]
  },
  {
   "cell_type": "markdown",
   "id": "3e91bc3a",
   "metadata": {},
   "source": [
    "## loc"
   ]
  },
  {
   "cell_type": "code",
   "execution_count": 59,
   "id": "21e24c96",
   "metadata": {},
   "outputs": [
    {
     "name": "stdout",
     "output_type": "stream",
     "text": [
      "0    0.25\n",
      "1    0.50\n",
      "2    0.75\n",
      "3    1.00\n",
      "dtype: float64\n",
      "\n",
      "1.0\n",
      "\n",
      "1    0.50\n",
      "2    0.75\n",
      "dtype: float64\n",
      "\n",
      "1    0.50\n",
      "2    0.75\n",
      "3    1.00\n",
      "dtype: float64\n"
     ]
    }
   ],
   "source": [
    "data = pd.Series([0.25, 0.5, 0.75, 1.0])\n",
    "\n",
    "print(f'{data}\\n\\n'\n",
    "      f'{data.loc[3]}\\n\\n'\n",
    "      f'{data[1:3]}\\n\\n' # position index does not include 3\n",
    "      f'{data.loc[1:3]}') # including 3 "
   ]
  },
  {
   "cell_type": "markdown",
   "id": "84c2e1e4",
   "metadata": {},
   "source": [
    "## iloc"
   ]
  },
  {
   "cell_type": "code",
   "execution_count": 60,
   "id": "8883c515",
   "metadata": {},
   "outputs": [
    {
     "name": "stdout",
     "output_type": "stream",
     "text": [
      "0    0.25\n",
      "1    0.50\n",
      "2    0.75\n",
      "3    1.00\n",
      "dtype: float64\n",
      "\n",
      "1.0\n",
      "\n",
      "1    0.50\n",
      "2    0.75\n",
      "dtype: float64\n",
      "\n",
      "1    0.50\n",
      "2    0.75\n",
      "dtype: float64\n"
     ]
    }
   ],
   "source": [
    "print(f'{data}\\n\\n'\n",
    "      f'{data.iloc[3]}\\n\\n'\n",
    "      f'{data[1:3]}\\n\\n' # position index does not include 3\n",
    "      f'{data.iloc[1:3]}') # integer position, same as index"
   ]
  },
  {
   "cell_type": "markdown",
   "id": "55743a32",
   "metadata": {},
   "source": [
    "## index = ['5', '4', '3', '2']"
   ]
  },
  {
   "cell_type": "code",
   "execution_count": 65,
   "id": "f3af311b",
   "metadata": {},
   "outputs": [
    {
     "name": "stdout",
     "output_type": "stream",
     "text": [
      "5    0.25\n",
      "4    0.50\n",
      "3    0.75\n",
      "2    1.00\n",
      "dtype: float64\n",
      "\n",
      "0.75\n",
      "\n",
      "3    0.75\n",
      "4    0.50\n",
      "5    0.25\n",
      "dtype: float64\n",
      "\n",
      "5    0.25\n",
      "4    0.50\n",
      "3    0.75\n",
      "dtype: float64\n"
     ]
    }
   ],
   "source": [
    "data = pd.Series([0.25, 0.5, 0.75, 1.0], index = ['5', '4', '3', '2'])\n",
    "print(f'{data}\\n\\n'\n",
    "      f\"{data.loc['3']}\\n\\n\"\n",
    "      f\"{data['3':'5':-1]}\\n\\n\"\n",
    "      f\"{data.loc['5':'3']}\") # including 3 "
   ]
  },
  {
   "cell_type": "code",
   "execution_count": 66,
   "id": "98168841",
   "metadata": {},
   "outputs": [
    {
     "name": "stdout",
     "output_type": "stream",
     "text": [
      "5    0.25\n",
      "4    0.50\n",
      "3    0.75\n",
      "2    1.00\n",
      "dtype: float64\n",
      "\n",
      "1.0\n",
      "\n",
      "4    0.50\n",
      "3    0.75\n",
      "dtype: float64\n"
     ]
    }
   ],
   "source": [
    "print(f'{data}\\n\\n'\n",
    "      f'{data.iloc[3]}\\n\\n'\n",
    "      f'{data.iloc[1:3]}') # not including index 3"
   ]
  },
  {
   "cell_type": "markdown",
   "id": "e72300bc",
   "metadata": {},
   "source": [
    "## DataFrame is just like excel spreadsheet, formed with rows and columns\n",
    "- DataFrame is numpy based, so it's faster than python\n",
    "- axis direction matters\n",
    "- [row_indexer, column_indexer]"
   ]
  },
  {
   "cell_type": "code",
   "execution_count": 68,
   "id": "2b9ba428",
   "metadata": {},
   "outputs": [
    {
     "name": "stdout",
     "output_type": "stream",
     "text": [
      "data :\n",
      "{'state': ['Ohio', 'Ohio', 'Ohio', 'Nevada', 'Nevada', 'Nevada'], 'year': [2000, 2001, 2002, 2001, 2002, 2003], 'popu': [1.5, 1.7, 3.6, 2.4, 2.9, 3.2]}\n",
      "\n",
      "data['state'] : ['Ohio', 'Ohio', 'Ohio', 'Nevada', 'Nevada', 'Nevada']\n",
      "\n",
      "    state  year  popu\n",
      "0    Ohio  2000   1.5\n",
      "1    Ohio  2001   1.7\n",
      "2    Ohio  2002   3.6\n",
      "3  Nevada  2001   2.4\n",
      "4  Nevada  2002   2.9\n",
      "5  Nevada  2003   3.2\n"
     ]
    },
    {
     "data": {
      "text/plain": [
       "0      Ohio\n",
       "1      Ohio\n",
       "2      Ohio\n",
       "3    Nevada\n",
       "4    Nevada\n",
       "5    Nevada\n",
       "Name: state, dtype: object"
      ]
     },
     "execution_count": 68,
     "metadata": {},
     "output_type": "execute_result"
    }
   ],
   "source": [
    "# This is a dictionary\n",
    "data = {'state': ['Ohio', 'Ohio', 'Ohio', 'Nevada', 'Nevada', 'Nevada'],\n",
    "        'year' : [2000, 2001, 2002, 2001, 2002, 2003],\n",
    "        'popu': [1.5, 1.7, 3.6, 2.4, 2.9, 3.2]}\n",
    "print(f\"data :\\n{data}\\n\\n\"\n",
    "      f\"data['state'] : {data['state']}\\n\\n\"\n",
    "      f\"{pd.DataFrame(data)}\")\n",
    "pd.DataFrame(data)['state'] # call the column"
   ]
  },
  {
   "cell_type": "markdown",
   "id": "94d13f9d",
   "metadata": {},
   "source": [
    "## df, df.T"
   ]
  },
  {
   "cell_type": "code",
   "execution_count": 70,
   "id": "b038ef67",
   "metadata": {},
   "outputs": [
    {
     "name": "stdout",
     "output_type": "stream",
     "text": [
      "    state  year  popu\n",
      "d    Ohio  2000   1.5\n",
      "f    Ohio  2001   1.7\n",
      "g    Ohio  2002   3.6\n",
      "h  Nevada  2001   2.4\n",
      "j  Nevada  2002   2.9\n",
      "k  Nevada  2003   3.2\n",
      "\n",
      "          d     f     g       h       j       k\n",
      "state  Ohio  Ohio  Ohio  Nevada  Nevada  Nevada\n",
      "year   2000  2001  2002    2001    2002    2003\n",
      "popu    1.5   1.7   3.6     2.4     2.9     3.2\n"
     ]
    }
   ],
   "source": [
    "df = pd.DataFrame(data, index=['d','f','g','h','j','k'])\n",
    "print(f'{df}\\n\\n{df.T}')"
   ]
  },
  {
   "cell_type": "markdown",
   "id": "4bce6f14",
   "metadata": {},
   "source": [
    "## Attribute"
   ]
  },
  {
   "cell_type": "code",
   "execution_count": 71,
   "id": "fe9514d6",
   "metadata": {},
   "outputs": [
    {
     "name": "stdout",
     "output_type": "stream",
     "text": [
      "df :\n",
      "    state  year  popu\n",
      "d    Ohio  2000   1.5\n",
      "f    Ohio  2001   1.7\n",
      "g    Ohio  2002   3.6\n",
      "h  Nevada  2001   2.4\n",
      "j  Nevada  2002   2.9\n",
      "k  Nevada  2003   3.2\n",
      "\n",
      "df.index\t = Index(['d', 'f', 'g', 'h', 'j', 'k'], dtype='object')\n",
      "df.columns\t = Index(['state', 'year', 'popu'], dtype='object')\n",
      "\n",
      "df.values =\n",
      "[['Ohio' 2000 1.5]\n",
      " ['Ohio' 2001 1.7]\n",
      " ['Ohio' 2002 3.6]\n",
      " ['Nevada' 2001 2.4]\n",
      " ['Nevada' 2002 2.9]\n",
      " ['Nevada' 2003 3.2]]\n",
      "\n",
      "type(df.values)\t= <class 'numpy.ndarray'>\n",
      "df.ndim\t\t= 2\n",
      "df.shape\t= (6, 3)\n"
     ]
    }
   ],
   "source": [
    "print(f'df :\\n{df}\\n\\n'\n",
    "      f'df.index\\t = {df.index}\\n'\n",
    "      f'df.columns\\t = {df.columns}\\n\\n'\n",
    "      f'df.values =\\n{df.values}\\n\\n'\n",
    "      f'type(df.values)\\t= {type(df.values)}\\n'\n",
    "      f'df.ndim\\t\\t= {df.ndim}\\n'\n",
    "      f'df.shape\\t= {df.shape}')"
   ]
  },
  {
   "cell_type": "markdown",
   "id": "a362adbb",
   "metadata": {},
   "source": [
    "## df observations"
   ]
  },
  {
   "cell_type": "code",
   "execution_count": 72,
   "id": "bdc82dcf",
   "metadata": {},
   "outputs": [
    {
     "name": "stdout",
     "output_type": "stream",
     "text": [
      "<class 'pandas.core.frame.DataFrame'>\n",
      "Index: 6 entries, d to k\n",
      "Data columns (total 3 columns):\n",
      " #   Column  Non-Null Count  Dtype  \n",
      "---  ------  --------------  -----  \n",
      " 0   state   6 non-null      object \n",
      " 1   year    6 non-null      int64  \n",
      " 2   popu    6 non-null      float64\n",
      "dtypes: float64(1), int64(1), object(1)\n",
      "memory usage: 364.0+ bytes\n",
      "df :\n",
      "    state  year  popu\n",
      "d    Ohio  2000   1.5\n",
      "f    Ohio  2001   1.7\n",
      "g    Ohio  2002   3.6\n",
      "h  Nevada  2001   2.4\n",
      "j  Nevada  2002   2.9\n",
      "k  Nevada  2003   3.2\n",
      "\n",
      "df.describe():\n",
      "              year      popu\n",
      "count     6.000000  6.000000\n",
      "mean   2001.500000  2.550000\n",
      "std       1.048809  0.836062\n",
      "min    2000.000000  1.500000\n",
      "25%    2001.000000  1.875000\n",
      "50%    2001.500000  2.650000\n",
      "75%    2002.000000  3.125000\n",
      "max    2003.000000  3.600000 end\n",
      "\n",
      "df.info:\n",
      "None\n",
      "\n",
      "df.head(4):\n",
      "    state  year  popu\n",
      "d    Ohio  2000   1.5\n",
      "f    Ohio  2001   1.7\n",
      "g    Ohio  2002   3.6\n",
      "h  Nevada  2001   2.4\n",
      "\n",
      "df.tail(4):\n",
      "    state  year  popu\n",
      "g    Ohio  2002   3.6\n",
      "h  Nevada  2001   2.4\n",
      "j  Nevada  2002   2.9\n",
      "k  Nevada  2003   3.2\n",
      "\n"
     ]
    }
   ],
   "source": [
    "print(f'df :\\n{df}\\n\\n'\n",
    "      f'df.describe():\\n{df.describe()} end\\n\\n' # not including state because its datatype is object\n",
    "      f'df.info:\\n{df.info()}\\n\\n'\n",
    "      f'df.head(4):\\n{df.head(4)}\\n\\n'\n",
    "      f'df.tail(4):\\n{df.tail(4)}\\n')"
   ]
  },
  {
   "cell_type": "markdown",
   "id": "02ff29a2",
   "metadata": {},
   "source": [
    "## columns edit"
   ]
  },
  {
   "cell_type": "code",
   "execution_count": 73,
   "id": "fab46590",
   "metadata": {},
   "outputs": [
    {
     "data": {
      "text/html": [
       "<div>\n",
       "<style scoped>\n",
       "    .dataframe tbody tr th:only-of-type {\n",
       "        vertical-align: middle;\n",
       "    }\n",
       "\n",
       "    .dataframe tbody tr th {\n",
       "        vertical-align: top;\n",
       "    }\n",
       "\n",
       "    .dataframe thead th {\n",
       "        text-align: right;\n",
       "    }\n",
       "</style>\n",
       "<table border=\"1\" class=\"dataframe\">\n",
       "  <thead>\n",
       "    <tr style=\"text-align: right;\">\n",
       "      <th></th>\n",
       "      <th>years</th>\n",
       "      <th>state</th>\n",
       "      <th>popu</th>\n",
       "      <th>nothing</th>\n",
       "    </tr>\n",
       "  </thead>\n",
       "  <tbody>\n",
       "    <tr>\n",
       "      <th>0</th>\n",
       "      <td>NaN</td>\n",
       "      <td>Ohio</td>\n",
       "      <td>1.5</td>\n",
       "      <td>NaN</td>\n",
       "    </tr>\n",
       "    <tr>\n",
       "      <th>1</th>\n",
       "      <td>NaN</td>\n",
       "      <td>Ohio</td>\n",
       "      <td>1.7</td>\n",
       "      <td>NaN</td>\n",
       "    </tr>\n",
       "    <tr>\n",
       "      <th>2</th>\n",
       "      <td>NaN</td>\n",
       "      <td>Ohio</td>\n",
       "      <td>3.6</td>\n",
       "      <td>NaN</td>\n",
       "    </tr>\n",
       "    <tr>\n",
       "      <th>3</th>\n",
       "      <td>NaN</td>\n",
       "      <td>Nevada</td>\n",
       "      <td>2.4</td>\n",
       "      <td>NaN</td>\n",
       "    </tr>\n",
       "    <tr>\n",
       "      <th>4</th>\n",
       "      <td>NaN</td>\n",
       "      <td>Nevada</td>\n",
       "      <td>2.9</td>\n",
       "      <td>NaN</td>\n",
       "    </tr>\n",
       "    <tr>\n",
       "      <th>5</th>\n",
       "      <td>NaN</td>\n",
       "      <td>Nevada</td>\n",
       "      <td>3.2</td>\n",
       "      <td>NaN</td>\n",
       "    </tr>\n",
       "  </tbody>\n",
       "</table>\n",
       "</div>"
      ],
      "text/plain": [
       "  years   state  popu nothing\n",
       "0   NaN    Ohio   1.5     NaN\n",
       "1   NaN    Ohio   1.7     NaN\n",
       "2   NaN    Ohio   3.6     NaN\n",
       "3   NaN  Nevada   2.4     NaN\n",
       "4   NaN  Nevada   2.9     NaN\n",
       "5   NaN  Nevada   3.2     NaN"
      ]
     },
     "execution_count": 73,
     "metadata": {},
     "output_type": "execute_result"
    }
   ],
   "source": [
    "data = {'state': ['Ohio', 'Ohio', 'Ohio', 'Nevada', 'Nevada', 'Nevada'],\n",
    "        'year' : [2000, 2001, 2002, 2001, 2002, 2003],\n",
    "        'popu': [1.5, 1.7, 3.6, 2.4, 2.9, 3.2]}\n",
    "\n",
    "pd.DataFrame(data, columns = ['years', 'state', 'popu', 'nothing']) # add a new column, \"nothing\""
   ]
  },
  {
   "cell_type": "markdown",
   "id": "1aa897a1",
   "metadata": {},
   "source": [
    "## df = Series + Series"
   ]
  },
  {
   "cell_type": "code",
   "execution_count": 76,
   "id": "e0a0b1b9",
   "metadata": {},
   "outputs": [
    {
     "name": "stdout",
     "output_type": "stream",
     "text": [
      "data :\n",
      "              area      popu\n",
      "California  423967  38332521\n",
      "Texas       695662  26448193\n",
      "New York    141297  19651127\n",
      "Florida     170312  19552860\n",
      "Illinois    149995  12882135\n",
      "\n",
      "data.area :\n",
      "California    423967\n",
      "Texas         695662\n",
      "New York      141297\n",
      "Florida       170312\n",
      "Illinois      149995\n",
      "Name: area, dtype: int64\n",
      "\n",
      "data['area'] :\n",
      "California    423967\n",
      "Texas         695662\n",
      "New York      141297\n",
      "Florida       170312\n",
      "Illinois      149995\n",
      "Name: area, dtype: int64\n",
      "\n",
      "data.popu: \n",
      "California    38332521\n",
      "Texas         26448193\n",
      "New York      19651127\n",
      "Florida       19552860\n",
      "Illinois      12882135\n",
      "Name: popu, dtype: int64\n",
      "\n",
      "data['popu'] :\n",
      "California    38332521\n",
      "Texas         26448193\n",
      "New York      19651127\n",
      "Florida       19552860\n",
      "Illinois      12882135\n",
      "Name: popu, dtype: int64\n"
     ]
    }
   ],
   "source": [
    "area = pd.Series({'California': 423967, 'Texas' : 695662, \n",
    "                    'New York' : 141297, 'Florida' : 170312,\n",
    "                    'Illinois' : 149995})\n",
    "popu = pd.Series({'California': 38332521, 'Texas' : 26448193, \n",
    "                    'New York' : 19651127, 'Florida' : 19552860,\n",
    "                    'Illinois' : 12882135})\n",
    "data = pd.DataFrame({'area': area, 'popu': popu})\n",
    "\n",
    "print(f'data :\\n{data}\\n\\n'\n",
    "      f'data.area :\\n{data.area}\\n\\n'\n",
    "      f\"data['area'] :\\n{data['area']}\\n\\n\"\n",
    "      f'data.popu: \\n{data.popu}\\n\\n'\n",
    "      f\"data['popu'] :\\n{data['popu']}\")"
   ]
  },
  {
   "cell_type": "code",
   "execution_count": 77,
   "id": "6f9eecb5",
   "metadata": {},
   "outputs": [
    {
     "data": {
      "text/html": [
       "<div>\n",
       "<style scoped>\n",
       "    .dataframe tbody tr th:only-of-type {\n",
       "        vertical-align: middle;\n",
       "    }\n",
       "\n",
       "    .dataframe tbody tr th {\n",
       "        vertical-align: top;\n",
       "    }\n",
       "\n",
       "    .dataframe thead th {\n",
       "        text-align: right;\n",
       "    }\n",
       "</style>\n",
       "<table border=\"1\" class=\"dataframe\">\n",
       "  <thead>\n",
       "    <tr style=\"text-align: right;\">\n",
       "      <th></th>\n",
       "      <th>area</th>\n",
       "      <th>popu</th>\n",
       "      <th>density</th>\n",
       "    </tr>\n",
       "  </thead>\n",
       "  <tbody>\n",
       "    <tr>\n",
       "      <th>California</th>\n",
       "      <td>423967</td>\n",
       "      <td>38332521</td>\n",
       "      <td>90.413926</td>\n",
       "    </tr>\n",
       "    <tr>\n",
       "      <th>Texas</th>\n",
       "      <td>695662</td>\n",
       "      <td>26448193</td>\n",
       "      <td>38.018740</td>\n",
       "    </tr>\n",
       "    <tr>\n",
       "      <th>New York</th>\n",
       "      <td>141297</td>\n",
       "      <td>19651127</td>\n",
       "      <td>139.076746</td>\n",
       "    </tr>\n",
       "    <tr>\n",
       "      <th>Florida</th>\n",
       "      <td>170312</td>\n",
       "      <td>19552860</td>\n",
       "      <td>114.806121</td>\n",
       "    </tr>\n",
       "    <tr>\n",
       "      <th>Illinois</th>\n",
       "      <td>149995</td>\n",
       "      <td>12882135</td>\n",
       "      <td>85.883763</td>\n",
       "    </tr>\n",
       "  </tbody>\n",
       "</table>\n",
       "</div>"
      ],
      "text/plain": [
       "              area      popu     density\n",
       "California  423967  38332521   90.413926\n",
       "Texas       695662  26448193   38.018740\n",
       "New York    141297  19651127  139.076746\n",
       "Florida     170312  19552860  114.806121\n",
       "Illinois    149995  12882135   85.883763"
      ]
     },
     "execution_count": 77,
     "metadata": {},
     "output_type": "execute_result"
    }
   ],
   "source": [
    "# add a new column utilizing existing columns\n",
    "data['density'] = data['popu']/data['area']\n",
    "# or\n",
    "data.density = data.popu / data.area\n",
    "data"
   ]
  },
  {
   "cell_type": "markdown",
   "id": "16b74247",
   "metadata": {},
   "source": [
    "## DataFrame can rename index and column name\n",
    "(Series can't)"
   ]
  },
  {
   "cell_type": "code",
   "execution_count": 82,
   "id": "bbcdc516",
   "metadata": {},
   "outputs": [
    {
     "name": "stdout",
     "output_type": "stream",
     "text": [
      "data :\n",
      "              area      popu     density\n",
      "California  423967  38332521   90.413926\n",
      "Texas       695662  26448193   38.018740\n",
      "New York    141297  19651127  139.076746\n",
      "Florida     170312  19552860  114.806121\n",
      "Illinois    149995  12882135   85.883763\n",
      "\n",
      "data rename data1 =\n",
      "           Col_1      popu     density\n",
      "Row_1     423967  38332521   90.413926\n",
      "Texas     695662  26448193   38.018740\n",
      "New York  141297  19651127  139.076746\n",
      "Florida   170312  19552860  114.806121\n",
      "Illinois  149995  12882135   85.883763\n"
     ]
    }
   ],
   "source": [
    "data1 = data.rename(columns={'area' : 'Col_1'}, index={'California': 'Row_1'})\n",
    "print(f'data :\\n{data}\\n\\n'\n",
    "      f'data rename data1 =\\n{data1}')"
   ]
  },
  {
   "cell_type": "code",
   "execution_count": null,
   "id": "fe5d2273",
   "metadata": {},
   "outputs": [],
   "source": []
  }
 ],
 "metadata": {
  "kernelspec": {
   "display_name": "Python 3 (ipykernel)",
   "language": "python",
   "name": "python3"
  },
  "language_info": {
   "codemirror_mode": {
    "name": "ipython",
    "version": 3
   },
   "file_extension": ".py",
   "mimetype": "text/x-python",
   "name": "python",
   "nbconvert_exporter": "python",
   "pygments_lexer": "ipython3",
   "version": "3.11.9"
  }
 },
 "nbformat": 4,
 "nbformat_minor": 5
}
